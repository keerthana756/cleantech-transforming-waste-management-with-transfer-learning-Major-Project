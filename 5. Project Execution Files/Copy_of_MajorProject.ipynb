{
  "cells": [
    {
      "cell_type": "code",
      "execution_count": null,
      "metadata": {
        "colab": {
          "base_uri": "https://localhost:8080/"
        },
        "id": "-L9mHSbiF3G_",
        "outputId": "06065605-3cab-4cc6-8b5d-a808dd386fa9"
      },
      "outputs": [
        {
          "output_type": "stream",
          "name": "stdout",
          "text": [
            "Downloading from https://www.kaggle.com/api/v1/datasets/download/elinachen717/municipal-solid-waste-dataset?dataset_version_number=1...\n"
          ]
        },
        {
          "output_type": "stream",
          "name": "stderr",
          "text": [
            "100%|██████████| 4.81M/4.81M [00:00<00:00, 54.7MB/s]"
          ]
        },
        {
          "output_type": "stream",
          "name": "stdout",
          "text": [
            "Extracting files...\n"
          ]
        },
        {
          "output_type": "stream",
          "name": "stderr",
          "text": [
            "\n"
          ]
        },
        {
          "output_type": "stream",
          "name": "stdout",
          "text": [
            "Path to dataset files: /root/.cache/kagglehub/datasets/elinachen717/municipal-solid-waste-dataset/versions/1\n"
          ]
        }
      ],
      "source": [
        "import kagglehub\n",
        "# Download latest version\n",
        "path = kagglehub.dataset_download(\"elinachen717/municipal-solid-waste-dataset\")\n",
        "print(\"Path to dataset files:\", path)"
      ]
    },
    {
      "cell_type": "code",
      "execution_count": null,
      "metadata": {
        "colab": {
          "base_uri": "https://localhost:8080/"
        },
        "id": "blxp7YXqH_df",
        "outputId": "18e39629-2599-4b1b-dc64-d31d146f9b9b"
      },
      "outputs": [
        {
          "output_type": "stream",
          "name": "stdout",
          "text": [
            "Requirement already satisfied: tensorflow in /usr/local/lib/python3.11/dist-packages (2.18.0)\n",
            "Requirement already satisfied: absl-py>=1.0.0 in /usr/local/lib/python3.11/dist-packages (from tensorflow) (1.4.0)\n",
            "Requirement already satisfied: astunparse>=1.6.0 in /usr/local/lib/python3.11/dist-packages (from tensorflow) (1.6.3)\n",
            "Requirement already satisfied: flatbuffers>=24.3.25 in /usr/local/lib/python3.11/dist-packages (from tensorflow) (25.2.10)\n",
            "Requirement already satisfied: gast!=0.5.0,!=0.5.1,!=0.5.2,>=0.2.1 in /usr/local/lib/python3.11/dist-packages (from tensorflow) (0.6.0)\n",
            "Requirement already satisfied: google-pasta>=0.1.1 in /usr/local/lib/python3.11/dist-packages (from tensorflow) (0.2.0)\n",
            "Requirement already satisfied: libclang>=13.0.0 in /usr/local/lib/python3.11/dist-packages (from tensorflow) (18.1.1)\n",
            "Requirement already satisfied: opt-einsum>=2.3.2 in /usr/local/lib/python3.11/dist-packages (from tensorflow) (3.4.0)\n",
            "Requirement already satisfied: packaging in /usr/local/lib/python3.11/dist-packages (from tensorflow) (24.2)\n",
            "Requirement already satisfied: protobuf!=4.21.0,!=4.21.1,!=4.21.2,!=4.21.3,!=4.21.4,!=4.21.5,<6.0.0dev,>=3.20.3 in /usr/local/lib/python3.11/dist-packages (from tensorflow) (5.29.4)\n",
            "Requirement already satisfied: requests<3,>=2.21.0 in /usr/local/lib/python3.11/dist-packages (from tensorflow) (2.32.3)\n",
            "Requirement already satisfied: setuptools in /usr/local/lib/python3.11/dist-packages (from tensorflow) (75.2.0)\n",
            "Requirement already satisfied: six>=1.12.0 in /usr/local/lib/python3.11/dist-packages (from tensorflow) (1.17.0)\n",
            "Requirement already satisfied: termcolor>=1.1.0 in /usr/local/lib/python3.11/dist-packages (from tensorflow) (3.0.1)\n",
            "Requirement already satisfied: typing-extensions>=3.6.6 in /usr/local/lib/python3.11/dist-packages (from tensorflow) (4.13.2)\n",
            "Requirement already satisfied: wrapt>=1.11.0 in /usr/local/lib/python3.11/dist-packages (from tensorflow) (1.17.2)\n",
            "Requirement already satisfied: grpcio<2.0,>=1.24.3 in /usr/local/lib/python3.11/dist-packages (from tensorflow) (1.71.0)\n",
            "Requirement already satisfied: tensorboard<2.19,>=2.18 in /usr/local/lib/python3.11/dist-packages (from tensorflow) (2.18.0)\n",
            "Requirement already satisfied: keras>=3.5.0 in /usr/local/lib/python3.11/dist-packages (from tensorflow) (3.8.0)\n",
            "Requirement already satisfied: numpy<2.1.0,>=1.26.0 in /usr/local/lib/python3.11/dist-packages (from tensorflow) (2.0.2)\n",
            "Requirement already satisfied: h5py>=3.11.0 in /usr/local/lib/python3.11/dist-packages (from tensorflow) (3.13.0)\n",
            "Requirement already satisfied: ml-dtypes<0.5.0,>=0.4.0 in /usr/local/lib/python3.11/dist-packages (from tensorflow) (0.4.1)\n",
            "Requirement already satisfied: tensorflow-io-gcs-filesystem>=0.23.1 in /usr/local/lib/python3.11/dist-packages (from tensorflow) (0.37.1)\n",
            "Requirement already satisfied: wheel<1.0,>=0.23.0 in /usr/local/lib/python3.11/dist-packages (from astunparse>=1.6.0->tensorflow) (0.45.1)\n",
            "Requirement already satisfied: rich in /usr/local/lib/python3.11/dist-packages (from keras>=3.5.0->tensorflow) (13.9.4)\n",
            "Requirement already satisfied: namex in /usr/local/lib/python3.11/dist-packages (from keras>=3.5.0->tensorflow) (0.0.9)\n",
            "Requirement already satisfied: optree in /usr/local/lib/python3.11/dist-packages (from keras>=3.5.0->tensorflow) (0.15.0)\n",
            "Requirement already satisfied: charset-normalizer<4,>=2 in /usr/local/lib/python3.11/dist-packages (from requests<3,>=2.21.0->tensorflow) (3.4.1)\n",
            "Requirement already satisfied: idna<4,>=2.5 in /usr/local/lib/python3.11/dist-packages (from requests<3,>=2.21.0->tensorflow) (3.10)\n",
            "Requirement already satisfied: urllib3<3,>=1.21.1 in /usr/local/lib/python3.11/dist-packages (from requests<3,>=2.21.0->tensorflow) (2.4.0)\n",
            "Requirement already satisfied: certifi>=2017.4.17 in /usr/local/lib/python3.11/dist-packages (from requests<3,>=2.21.0->tensorflow) (2025.4.26)\n",
            "Requirement already satisfied: markdown>=2.6.8 in /usr/local/lib/python3.11/dist-packages (from tensorboard<2.19,>=2.18->tensorflow) (3.8)\n",
            "Requirement already satisfied: tensorboard-data-server<0.8.0,>=0.7.0 in /usr/local/lib/python3.11/dist-packages (from tensorboard<2.19,>=2.18->tensorflow) (0.7.2)\n",
            "Requirement already satisfied: werkzeug>=1.0.1 in /usr/local/lib/python3.11/dist-packages (from tensorboard<2.19,>=2.18->tensorflow) (3.1.3)\n",
            "Requirement already satisfied: MarkupSafe>=2.1.1 in /usr/local/lib/python3.11/dist-packages (from werkzeug>=1.0.1->tensorboard<2.19,>=2.18->tensorflow) (3.0.2)\n",
            "Requirement already satisfied: markdown-it-py>=2.2.0 in /usr/local/lib/python3.11/dist-packages (from rich->keras>=3.5.0->tensorflow) (3.0.0)\n",
            "Requirement already satisfied: pygments<3.0.0,>=2.13.0 in /usr/local/lib/python3.11/dist-packages (from rich->keras>=3.5.0->tensorflow) (2.19.1)\n",
            "Requirement already satisfied: mdurl~=0.1 in /usr/local/lib/python3.11/dist-packages (from markdown-it-py>=2.2.0->rich->keras>=3.5.0->tensorflow) (0.1.2)\n"
          ]
        }
      ],
      "source": [
        "# Install TensorFlow if not already installed\n",
        "!pip install tensorflow\n",
        "\n",
        "# Import necessary libraries\n",
        "import os\n",
        "import shutil\n",
        "import numpy as np\n",
        "from tensorflow.keras.preprocessing.image import ImageDataGenerator, load_img, img_to_array\n",
        "from tensorflow.keras.applications.vgg16 import VGG16, preprocess_input\n",
        "from tensorflow.keras.layers import Dense, Flatten\n",
        "from tensorflow.keras.models import Model\n",
        "from tensorflow.keras.optimizers import Adam"
      ]
    },
    {
      "cell_type": "code",
      "execution_count": null,
      "metadata": {
        "id": "PnmBqjxuK64o",
        "colab": {
          "base_uri": "https://localhost:8080/"
        },
        "outputId": "216c1814-d379-45a2-f67f-8bfddffe90d8"
      },
      "outputs": [
        {
          "output_type": "stream",
          "name": "stdout",
          "text": [
            "Requirement already satisfied: kaggle in /usr/local/lib/python3.11/dist-packages (1.7.4.2)\n",
            "Requirement already satisfied: bleach in /usr/local/lib/python3.11/dist-packages (from kaggle) (6.2.0)\n",
            "Requirement already satisfied: certifi>=14.05.14 in /usr/local/lib/python3.11/dist-packages (from kaggle) (2025.4.26)\n",
            "Requirement already satisfied: charset-normalizer in /usr/local/lib/python3.11/dist-packages (from kaggle) (3.4.1)\n",
            "Requirement already satisfied: idna in /usr/local/lib/python3.11/dist-packages (from kaggle) (3.10)\n",
            "Requirement already satisfied: protobuf in /usr/local/lib/python3.11/dist-packages (from kaggle) (5.29.4)\n",
            "Requirement already satisfied: python-dateutil>=2.5.3 in /usr/local/lib/python3.11/dist-packages (from kaggle) (2.9.0.post0)\n",
            "Requirement already satisfied: python-slugify in /usr/local/lib/python3.11/dist-packages (from kaggle) (8.0.4)\n",
            "Requirement already satisfied: requests in /usr/local/lib/python3.11/dist-packages (from kaggle) (2.32.3)\n",
            "Requirement already satisfied: setuptools>=21.0.0 in /usr/local/lib/python3.11/dist-packages (from kaggle) (75.2.0)\n",
            "Requirement already satisfied: six>=1.10 in /usr/local/lib/python3.11/dist-packages (from kaggle) (1.17.0)\n",
            "Requirement already satisfied: text-unidecode in /usr/local/lib/python3.11/dist-packages (from kaggle) (1.3)\n",
            "Requirement already satisfied: tqdm in /usr/local/lib/python3.11/dist-packages (from kaggle) (4.67.1)\n",
            "Requirement already satisfied: urllib3>=1.15.1 in /usr/local/lib/python3.11/dist-packages (from kaggle) (2.4.0)\n",
            "Requirement already satisfied: webencodings in /usr/local/lib/python3.11/dist-packages (from kaggle) (0.5.1)\n"
          ]
        }
      ],
      "source": [
        "!pip install kaggle"
      ]
    },
    {
      "cell_type": "code",
      "execution_count": null,
      "metadata": {
        "id": "gO_Gp6oRjCP8"
      },
      "outputs": [],
      "source": [
        "!mkdir ~/.kaggle"
      ]
    },
    {
      "cell_type": "code",
      "execution_count": null,
      "metadata": {
        "id": "ah4-e-b5N6e6",
        "colab": {
          "base_uri": "https://localhost:8080/"
        },
        "outputId": "301bab10-ace0-479e-956e-04d3d1a7b2a4"
      },
      "outputs": [
        {
          "output_type": "stream",
          "name": "stdout",
          "text": [
            "cp: cannot stat 'kaggle.json': No such file or directory\n"
          ]
        }
      ],
      "source": [
        "!cp kaggle.json ~/.kaggle/"
      ]
    },
    {
      "cell_type": "code",
      "execution_count": null,
      "metadata": {
        "id": "GfWEZ1Ggjhpn",
        "colab": {
          "base_uri": "https://localhost:8080/"
        },
        "outputId": "643e2660-d8de-47e5-d2ba-88737dc54e73"
      },
      "outputs": [
        {
          "output_type": "stream",
          "name": "stdout",
          "text": [
            "Traceback (most recent call last):\n",
            "  File \"/usr/local/bin/kaggle\", line 10, in <module>\n",
            "    sys.exit(main())\n",
            "             ^^^^^^\n",
            "  File \"/usr/local/lib/python3.11/dist-packages/kaggle/cli.py\", line 68, in main\n",
            "    out = args.func(**command_args)\n",
            "          ^^^^^^^^^^^^^^^^^^^^^^^^^\n",
            "  File \"/usr/local/lib/python3.11/dist-packages/kaggle/api/kaggle_api_extended.py\", line 1734, in dataset_download_cli\n",
            "    with self.build_kaggle_client() as kaggle:\n",
            "         ^^^^^^^^^^^^^^^^^^^^^^^^^^\n",
            "  File \"/usr/local/lib/python3.11/dist-packages/kaggle/api/kaggle_api_extended.py\", line 688, in build_kaggle_client\n",
            "    username=self.config_values['username'],\n",
            "             ~~~~~~~~~~~~~~~~~~^^^^^^^^^^^^\n",
            "KeyError: 'username'\n"
          ]
        }
      ],
      "source": [
        "!kaggle datasets download -d elinachen717/municipal-solid-waste-dataset"
      ]
    },
    {
      "cell_type": "code",
      "source": [
        "from google.colab import files\n",
        "uploaded = files.upload()\n"
      ],
      "metadata": {
        "colab": {
          "base_uri": "https://localhost:8080/",
          "height": 73
        },
        "id": "PbcyVHfYZt0a",
        "outputId": "39961a69-56d6-409e-ad4e-875eb3aee233"
      },
      "execution_count": null,
      "outputs": [
        {
          "output_type": "display_data",
          "data": {
            "text/plain": [
              "<IPython.core.display.HTML object>"
            ],
            "text/html": [
              "\n",
              "     <input type=\"file\" id=\"files-7ec0591f-a313-4f4b-963e-57839af78185\" name=\"files[]\" multiple disabled\n",
              "        style=\"border:none\" />\n",
              "     <output id=\"result-7ec0591f-a313-4f4b-963e-57839af78185\">\n",
              "      Upload widget is only available when the cell has been executed in the\n",
              "      current browser session. Please rerun this cell to enable.\n",
              "      </output>\n",
              "      <script>// Copyright 2017 Google LLC\n",
              "//\n",
              "// Licensed under the Apache License, Version 2.0 (the \"License\");\n",
              "// you may not use this file except in compliance with the License.\n",
              "// You may obtain a copy of the License at\n",
              "//\n",
              "//      http://www.apache.org/licenses/LICENSE-2.0\n",
              "//\n",
              "// Unless required by applicable law or agreed to in writing, software\n",
              "// distributed under the License is distributed on an \"AS IS\" BASIS,\n",
              "// WITHOUT WARRANTIES OR CONDITIONS OF ANY KIND, either express or implied.\n",
              "// See the License for the specific language governing permissions and\n",
              "// limitations under the License.\n",
              "\n",
              "/**\n",
              " * @fileoverview Helpers for google.colab Python module.\n",
              " */\n",
              "(function(scope) {\n",
              "function span(text, styleAttributes = {}) {\n",
              "  const element = document.createElement('span');\n",
              "  element.textContent = text;\n",
              "  for (const key of Object.keys(styleAttributes)) {\n",
              "    element.style[key] = styleAttributes[key];\n",
              "  }\n",
              "  return element;\n",
              "}\n",
              "\n",
              "// Max number of bytes which will be uploaded at a time.\n",
              "const MAX_PAYLOAD_SIZE = 100 * 1024;\n",
              "\n",
              "function _uploadFiles(inputId, outputId) {\n",
              "  const steps = uploadFilesStep(inputId, outputId);\n",
              "  const outputElement = document.getElementById(outputId);\n",
              "  // Cache steps on the outputElement to make it available for the next call\n",
              "  // to uploadFilesContinue from Python.\n",
              "  outputElement.steps = steps;\n",
              "\n",
              "  return _uploadFilesContinue(outputId);\n",
              "}\n",
              "\n",
              "// This is roughly an async generator (not supported in the browser yet),\n",
              "// where there are multiple asynchronous steps and the Python side is going\n",
              "// to poll for completion of each step.\n",
              "// This uses a Promise to block the python side on completion of each step,\n",
              "// then passes the result of the previous step as the input to the next step.\n",
              "function _uploadFilesContinue(outputId) {\n",
              "  const outputElement = document.getElementById(outputId);\n",
              "  const steps = outputElement.steps;\n",
              "\n",
              "  const next = steps.next(outputElement.lastPromiseValue);\n",
              "  return Promise.resolve(next.value.promise).then((value) => {\n",
              "    // Cache the last promise value to make it available to the next\n",
              "    // step of the generator.\n",
              "    outputElement.lastPromiseValue = value;\n",
              "    return next.value.response;\n",
              "  });\n",
              "}\n",
              "\n",
              "/**\n",
              " * Generator function which is called between each async step of the upload\n",
              " * process.\n",
              " * @param {string} inputId Element ID of the input file picker element.\n",
              " * @param {string} outputId Element ID of the output display.\n",
              " * @return {!Iterable<!Object>} Iterable of next steps.\n",
              " */\n",
              "function* uploadFilesStep(inputId, outputId) {\n",
              "  const inputElement = document.getElementById(inputId);\n",
              "  inputElement.disabled = false;\n",
              "\n",
              "  const outputElement = document.getElementById(outputId);\n",
              "  outputElement.innerHTML = '';\n",
              "\n",
              "  const pickedPromise = new Promise((resolve) => {\n",
              "    inputElement.addEventListener('change', (e) => {\n",
              "      resolve(e.target.files);\n",
              "    });\n",
              "  });\n",
              "\n",
              "  const cancel = document.createElement('button');\n",
              "  inputElement.parentElement.appendChild(cancel);\n",
              "  cancel.textContent = 'Cancel upload';\n",
              "  const cancelPromise = new Promise((resolve) => {\n",
              "    cancel.onclick = () => {\n",
              "      resolve(null);\n",
              "    };\n",
              "  });\n",
              "\n",
              "  // Wait for the user to pick the files.\n",
              "  const files = yield {\n",
              "    promise: Promise.race([pickedPromise, cancelPromise]),\n",
              "    response: {\n",
              "      action: 'starting',\n",
              "    }\n",
              "  };\n",
              "\n",
              "  cancel.remove();\n",
              "\n",
              "  // Disable the input element since further picks are not allowed.\n",
              "  inputElement.disabled = true;\n",
              "\n",
              "  if (!files) {\n",
              "    return {\n",
              "      response: {\n",
              "        action: 'complete',\n",
              "      }\n",
              "    };\n",
              "  }\n",
              "\n",
              "  for (const file of files) {\n",
              "    const li = document.createElement('li');\n",
              "    li.append(span(file.name, {fontWeight: 'bold'}));\n",
              "    li.append(span(\n",
              "        `(${file.type || 'n/a'}) - ${file.size} bytes, ` +\n",
              "        `last modified: ${\n",
              "            file.lastModifiedDate ? file.lastModifiedDate.toLocaleDateString() :\n",
              "                                    'n/a'} - `));\n",
              "    const percent = span('0% done');\n",
              "    li.appendChild(percent);\n",
              "\n",
              "    outputElement.appendChild(li);\n",
              "\n",
              "    const fileDataPromise = new Promise((resolve) => {\n",
              "      const reader = new FileReader();\n",
              "      reader.onload = (e) => {\n",
              "        resolve(e.target.result);\n",
              "      };\n",
              "      reader.readAsArrayBuffer(file);\n",
              "    });\n",
              "    // Wait for the data to be ready.\n",
              "    let fileData = yield {\n",
              "      promise: fileDataPromise,\n",
              "      response: {\n",
              "        action: 'continue',\n",
              "      }\n",
              "    };\n",
              "\n",
              "    // Use a chunked sending to avoid message size limits. See b/62115660.\n",
              "    let position = 0;\n",
              "    do {\n",
              "      const length = Math.min(fileData.byteLength - position, MAX_PAYLOAD_SIZE);\n",
              "      const chunk = new Uint8Array(fileData, position, length);\n",
              "      position += length;\n",
              "\n",
              "      const base64 = btoa(String.fromCharCode.apply(null, chunk));\n",
              "      yield {\n",
              "        response: {\n",
              "          action: 'append',\n",
              "          file: file.name,\n",
              "          data: base64,\n",
              "        },\n",
              "      };\n",
              "\n",
              "      let percentDone = fileData.byteLength === 0 ?\n",
              "          100 :\n",
              "          Math.round((position / fileData.byteLength) * 100);\n",
              "      percent.textContent = `${percentDone}% done`;\n",
              "\n",
              "    } while (position < fileData.byteLength);\n",
              "  }\n",
              "\n",
              "  // All done.\n",
              "  yield {\n",
              "    response: {\n",
              "      action: 'complete',\n",
              "    }\n",
              "  };\n",
              "}\n",
              "\n",
              "scope.google = scope.google || {};\n",
              "scope.google.colab = scope.google.colab || {};\n",
              "scope.google.colab._files = {\n",
              "  _uploadFiles,\n",
              "  _uploadFilesContinue,\n",
              "};\n",
              "})(self);\n",
              "</script> "
            ]
          },
          "metadata": {}
        },
        {
          "output_type": "stream",
          "name": "stdout",
          "text": [
            "Saving Municipal_waste.zip to Municipal_waste.zip\n"
          ]
        }
      ]
    },
    {
      "cell_type": "code",
      "source": [
        "!unzip -q '/content/Municipal_waste.zip' -d /content/Dataset"
      ],
      "metadata": {
        "colab": {
          "base_uri": "https://localhost:8080/"
        },
        "id": "XzrY3zM3cidA",
        "outputId": "a3e32dff-3840-4d80-b9d1-62d98ce37a83"
      },
      "execution_count": null,
      "outputs": [
        {
          "output_type": "stream",
          "name": "stdout",
          "text": [
            "replace /content/Dataset/Dataset/Biodegradable Images/TEST_BIODEG_HFL_0.jpeg? [y]es, [n]o, [A]ll, [N]one, [r]ename: "
          ]
        }
      ]
    },
    {
      "cell_type": "code",
      "source": [
        "!ls /content/Dataset"
      ],
      "metadata": {
        "colab": {
          "base_uri": "https://localhost:8080/"
        },
        "id": "ptlJPFq7cFd3",
        "outputId": "a7bae8a0-45a5-4ae9-cd26-e3dc72192b1c"
      },
      "execution_count": null,
      "outputs": [
        {
          "output_type": "stream",
          "name": "stdout",
          "text": [
            "Dataset\n"
          ]
        }
      ]
    },
    {
      "cell_type": "code",
      "source": [
        "import os\n",
        "import shutil\n",
        "from sklearn.model_selection import train_test_split\n",
        "\n",
        "dataset_dir = '/content/Dataset/Dataset'\n",
        "output_dir = '/content/output_dataset'\n",
        "\n",
        "os.makedirs(output_dir, exist_ok=True)\n",
        "os.makedirs(os.path.join(output_dir, 'train'), exist_ok=True)\n",
        "os.makedirs(os.path.join(output_dir, 'val'), exist_ok=True)\n",
        "os.makedirs(os.path.join(output_dir, 'test'), exist_ok=True)\n",
        "\n",
        "classes = os.listdir(dataset_dir)\n",
        "for cls in classes:\n",
        "    cls_path = os.path.join(dataset_dir, cls)\n",
        "    if not os.path.isdir(cls_path):\n",
        "        continue  # skip files, keep only folders\n",
        "\n",
        "    os.makedirs(os.path.join(output_dir, 'train', cls), exist_ok=True)\n",
        "    os.makedirs(os.path.join(output_dir, 'val', cls), exist_ok=True)\n",
        "    os.makedirs(os.path.join(output_dir, 'test', cls), exist_ok=True)\n",
        "\n",
        "    images = os.listdir(cls_path)\n",
        "    train_and_val, test = train_test_split(images, test_size=0.2, random_state=42)\n",
        "    train, val = train_test_split(train_and_val, test_size=0.2, random_state=42)\n",
        "\n",
        "    for img in train:\n",
        "        shutil.copy(os.path.join(cls_path, img), os.path.join(output_dir, 'train', cls, img))\n",
        "    for img in val:\n",
        "        shutil.copy(os.path.join(cls_path, img), os.path.join(output_dir, 'val', cls, img))\n",
        "    for img in test:\n",
        "        shutil.copy(os.path.join(cls_path, img), os.path.join(output_dir, 'test', cls, img))\n",
        "\n",
        "print(\"✅ Dataset successfully split into train/val/test.\")\n"
      ],
      "metadata": {
        "colab": {
          "base_uri": "https://localhost:8080/"
        },
        "id": "tzM8TF8Ub357",
        "outputId": "1ab6fca6-8a02-4bb5-97bc-33cc737e2e32"
      },
      "execution_count": null,
      "outputs": [
        {
          "output_type": "stream",
          "name": "stdout",
          "text": [
            "✅ Dataset successfully split into train/val/test.\n"
          ]
        }
      ]
    },
    {
      "cell_type": "code",
      "execution_count": null,
      "metadata": {
        "id": "yCwKOzzikXQi",
        "colab": {
          "base_uri": "https://localhost:8080/"
        },
        "outputId": "b4eb64d6-8812-4cba-f549-66d53e5aec60"
      },
      "outputs": [
        {
          "output_type": "stream",
          "name": "stdout",
          "text": [
            "Found 249 images belonging to 3 classes.\n",
            "Found 63 images belonging to 3 classes.\n",
            "Found 78 images belonging to 3 classes.\n",
            "{'Biodegradable Images': 0, 'Recyclable Images': 1, 'Trash Images': 2}\n",
            "{'Biodegradable Images': 0, 'Recyclable Images': 1, 'Trash Images': 2}\n",
            "{'Biodegradable Images': 0, 'Recyclable Images': 1, 'Trash Images': 2}\n"
          ]
        }
      ],
      "source": [
        "dataset_dir='/content/output_dataset'\n",
        "train_dir=os.path.join(dataset_dir,'train')\n",
        "val_dir=os.path.join(dataset_dir,'val')\n",
        "test_dir=os.path.join(dataset_dir,'test')\n",
        "IMG_SIZE=(224,224)\n",
        "train_datagen=ImageDataGenerator(\n",
        "    rescale=1./255,\n",
        "    rotation_range=20,\n",
        "    width_shift_range=0.2,\n",
        "    height_shift_range=0.2,\n",
        "    shear_range=0.2,\n",
        "    zoom_range=0.2,\n",
        "    horizontal_flip=True,\n",
        "    fill_mode='nearest',\n",
        "    brightness_range=[0.5, 1.5],  # Adding brightness range\n",
        "    channel_shift_range=50.0    # Adding color jitter\n",
        ")\n",
        "val_test_datagen=ImageDataGenerator(rescale=1./255)\n",
        "train_generator=train_datagen.flow_from_directory(\n",
        "    train_dir,\n",
        "    target_size=IMG_SIZE,\n",
        "    batch_size=32,\n",
        "    class_mode='categorical'\n",
        ")\n",
        "val_generator=val_test_datagen.flow_from_directory(\n",
        "    val_dir,\n",
        "    target_size=IMG_SIZE,\n",
        "    batch_size=32,\n",
        "    class_mode='categorical'\n",
        ")\n",
        "test_generator=val_test_datagen.flow_from_directory(\n",
        "    test_dir,\n",
        "    target_size=IMG_SIZE,\n",
        "    batch_size=32,\n",
        "    class_mode='categorical',\n",
        "    shuffle=False\n",
        ")\n",
        "print(train_generator.class_indices)\n",
        "print(val_generator.class_indices)\n",
        "print(test_generator.class_indices)"
      ]
    },
    {
      "cell_type": "code",
      "execution_count": null,
      "metadata": {
        "id": "kqt-nrpJketb",
        "colab": {
          "base_uri": "https://localhost:8080/",
          "height": 217
        },
        "outputId": "4894e316-9373-4c05-d3b2-7d92705898a1"
      },
      "outputs": [
        {
          "output_type": "display_data",
          "data": {
            "image/jpeg": "[encoded data removed]",
            "text/plain": [
              "<IPython.core.display.Image object>"
            ]
          },
          "metadata": {}
        }
      ],
      "source": [
        "import random\n",
        "from IPython.display import Image, display\n",
        "folder_path='/content/output_dataset/train/Biodegradable Images'\n",
        "image_files=[f for f in os.listdir(folder_path) if f.endswith(('.png','.jpg','.jpeg'))]\n",
        "selected_image=random.choice(image_files)\n",
        "image_path=os.path.join(folder_path,selected_image)\n",
        "display(Image(filename=image_path))"
      ]
    },
    {
      "cell_type": "code",
      "execution_count": null,
      "metadata": {
        "id": "n6c-4IHpklNm",
        "colab": {
          "base_uri": "https://localhost:8080/",
          "height": 401
        },
        "outputId": "9b9d69df-f93e-4169-855e-650a70a8e0c3"
      },
      "outputs": [
        {
          "output_type": "display_data",
          "data": {
            "image/jpeg": "[encoded data removed]",
            "text/plain": [
              "<IPython.core.display.Image object>"
            ]
          },
          "metadata": {}
        }
      ],
      "source": [
        "folder_path = 'output_dataset/train/Recyclable Images'  # Changed to the directory containing the image\n",
        "image_files = [\n",
        "    f for f in os.listdir(folder_path) if f.endswith(('.png', '.jpg', '.jpeg'))\n",
        "]\n",
        "selected_image = random.choice(image_files)\n",
        "image_path = os.path.join(folder_path, selected_image)\n",
        "display(Image(filename=image_path))"
      ]
    },
    {
      "cell_type": "code",
      "execution_count": null,
      "metadata": {
        "id": "8UoLWsR7ksf_",
        "colab": {
          "base_uri": "https://localhost:8080/",
          "height": 401
        },
        "outputId": "70cda2e9-4fd0-455a-c312-3e3f231dd9c7"
      },
      "outputs": [
        {
          "output_type": "display_data",
          "data": {
            "image/jpeg": "[encoded data removed]",
            "text/plain": [
              "<IPython.core.display.Image object>"
            ]
          },
          "metadata": {}
        }
      ],
      "source": [
        "folder_path='/content/output_dataset/train/Trash Images'\n",
        "image_files=[f for f in os.listdir(folder_path) if f.endswith(('.png','.jpg','.jpeg'))]\n",
        "selected_image=random.choice(image_files)\n",
        "image_path=os.path.join(folder_path,selected_image)\n",
        "display(Image(filename=image_path))"
      ]
    },
    {
      "cell_type": "code",
      "execution_count": null,
      "metadata": {
        "id": "Boxwh91ZkzLi",
        "colab": {
          "base_uri": "https://localhost:8080/",
          "height": 401
        },
        "outputId": "8b66e54b-0095-4efc-8ed2-da037f64b55f"
      },
      "outputs": [
        {
          "output_type": "display_data",
          "data": {
            "image/jpeg": "[encoded data removed]",
            "text/plain": [
              "<IPython.core.display.Image object>"
            ]
          },
          "metadata": {}
        }
      ],
      "source": [
        "folder_path='/content/output_dataset/val/Trash Images'\n",
        "image_files=[f for f in os.listdir(folder_path) if f.endswith(('.png','.jpg','.jpeg'))]\n",
        "selected_image=random.choice(image_files)\n",
        "image_path=os.path.join(folder_path,selected_image)\n",
        "display(Image(filename=image_path))"
      ]
    },
    {
      "cell_type": "code",
      "execution_count": null,
      "metadata": {
        "id": "KhCPBrG8k4ae",
        "colab": {
          "base_uri": "https://localhost:8080/"
        },
        "outputId": "508efdb4-301c-4db7-917d-2dc0094bca69"
      },
      "outputs": [
        {
          "output_type": "stream",
          "name": "stdout",
          "text": [
            "Collecting Augmentor\n",
            "  Downloading Augmentor-0.2.12-py2.py3-none-any.whl.metadata (1.3 kB)\n",
            "Requirement already satisfied: Pillow>=5.2.0 in /usr/local/lib/python3.11/dist-packages (from Augmentor) (11.2.1)\n",
            "Requirement already satisfied: tqdm>=4.9.0 in /usr/local/lib/python3.11/dist-packages (from Augmentor) (4.67.1)\n",
            "Requirement already satisfied: numpy>=1.11.0 in /usr/local/lib/python3.11/dist-packages (from Augmentor) (2.0.2)\n",
            "Downloading Augmentor-0.2.12-py2.py3-none-any.whl (38 kB)\n",
            "Installing collected packages: Augmentor\n",
            "Successfully installed Augmentor-0.2.12\n"
          ]
        }
      ],
      "source": [
        "!pip install Augmentor"
      ]
    },
    {
      "cell_type": "code",
      "execution_count": null,
      "metadata": {
        "id": "cRZY3Ii6lB_i"
      },
      "outputs": [],
      "source": [
        "train_path=\"/content/output_dataset/train\"\n",
        "test_path=\"/content/output_dataset/test\""
      ]
    },
    {
      "cell_type": "code",
      "execution_count": null,
      "metadata": {
        "id": "vxUgnzaDlIst"
      },
      "outputs": [],
      "source": [
        "train_datagen=ImageDataGenerator(rescale=1./255,zoom_range=0.2,shear_range=0.2)\n",
        "test_datagen=ImageDataGenerator(rescale=1./255)"
      ]
    },
    {
      "cell_type": "code",
      "execution_count": null,
      "metadata": {
        "id": "la5enp9ylWry",
        "colab": {
          "base_uri": "https://localhost:8080/"
        },
        "outputId": "11afb4f8-ab8b-4808-ae64-45122b197504"
      },
      "outputs": [
        {
          "output_type": "stream",
          "name": "stdout",
          "text": [
            "Found 249 images belonging to 3 classes.\n",
            "Found 78 images belonging to 3 classes.\n"
          ]
        }
      ],
      "source": [
        "train=train_datagen.flow_from_directory(train_path,target_size=(224,224),batch_size=20)\n",
        "test=test_datagen.flow_from_directory(test_path,target_size=(224,224),batch_size=20)"
      ]
    },
    {
      "cell_type": "code",
      "execution_count": null,
      "metadata": {
        "id": "n7QT5k_3lai3",
        "colab": {
          "base_uri": "https://localhost:8080/"
        },
        "outputId": "eb632232-8ef9-4522-bd33-a89aaf961505"
      },
      "outputs": [
        {
          "output_type": "stream",
          "name": "stdout",
          "text": [
            "Downloading data from https://storage.googleapis.com/tensorflow/keras-applications/vgg16/vgg16_weights_tf_dim_ordering_tf_kernels_notop.h5\n",
            "\u001b[1m58889256/58889256\u001b[0m \u001b[32m━━━━━━━━━━━━━━━━━━━━\u001b[0m\u001b[37m\u001b[0m \u001b[1m0s\u001b[0m 0us/step\n"
          ]
        }
      ],
      "source": [
        "vgg=VGG16(include_top=False,input_shape=(224,224,3))"
      ]
    },
    {
      "cell_type": "code",
      "execution_count": null,
      "metadata": {
        "id": "2ONCDpN_lhMn",
        "colab": {
          "base_uri": "https://localhost:8080/"
        },
        "outputId": "5babe935-a987-47f9-80f8-e5b1731d573c"
      },
      "outputs": [
        {
          "output_type": "stream",
          "name": "stdout",
          "text": [
            "<InputLayer name=input_layer, built=True>\n",
            "<Conv2D name=block1_conv1, built=True>\n",
            "<Conv2D name=block1_conv2, built=True>\n",
            "<MaxPooling2D name=block1_pool, built=True>\n",
            "<Conv2D name=block2_conv1, built=True>\n",
            "<Conv2D name=block2_conv2, built=True>\n",
            "<MaxPooling2D name=block2_pool, built=True>\n",
            "<Conv2D name=block3_conv1, built=True>\n",
            "<Conv2D name=block3_conv2, built=True>\n",
            "<Conv2D name=block3_conv3, built=True>\n",
            "<MaxPooling2D name=block3_pool, built=True>\n",
            "<Conv2D name=block4_conv1, built=True>\n",
            "<Conv2D name=block4_conv2, built=True>\n",
            "<Conv2D name=block4_conv3, built=True>\n",
            "<MaxPooling2D name=block4_pool, built=True>\n",
            "<Conv2D name=block5_conv1, built=True>\n",
            "<Conv2D name=block5_conv2, built=True>\n",
            "<Conv2D name=block5_conv3, built=True>\n",
            "<MaxPooling2D name=block5_pool, built=True>\n"
          ]
        }
      ],
      "source": [
        "for layer in vgg.layers:\n",
        "  print(layer)"
      ]
    },
    {
      "cell_type": "code",
      "execution_count": null,
      "metadata": {
        "id": "GmgT1aeclmiU"
      },
      "outputs": [],
      "source": [
        "for layer in vgg.layers:\n",
        "  layer.trainable=False"
      ]
    },
    {
      "cell_type": "code",
      "execution_count": null,
      "metadata": {
        "id": "ER03mU3ilzRQ"
      },
      "outputs": [],
      "source": [
        "x=Flatten()(vgg.output)"
      ]
    },
    {
      "cell_type": "code",
      "execution_count": null,
      "metadata": {
        "id": "ivEdhYajl6bB"
      },
      "outputs": [],
      "source": [
        "output=Dense(3,activation='softmax')(x)"
      ]
    },
    {
      "cell_type": "code",
      "execution_count": null,
      "metadata": {
        "id": "hXO6kF4bl_UA"
      },
      "outputs": [],
      "source": [
        "vgg16=Model(vgg.input,output)"
      ]
    },
    {
      "cell_type": "code",
      "execution_count": null,
      "metadata": {
        "id": "e5bv1sxsmIQ5"
      },
      "outputs": [],
      "source": [
        "from tensorflow.keras.callbacks import ReduceLROnPlateau\n",
        "\n",
        "# Define the learning rate scheduler\n",
        "lr_scheduler = ReduceLROnPlateau(monitor='val_loss', factor=0.5, patience=3, min_lr=1e-6)\n"
      ]
    },
    {
      "cell_type": "code",
      "execution_count": null,
      "metadata": {
        "id": "r8XcofT0mRYC",
        "colab": {
          "base_uri": "https://localhost:8080/"
        },
        "outputId": "700db5ba-712f-4eb9-c19d-c6e602d9da2d"
      },
      "outputs": [
        {
          "output_type": "stream",
          "name": "stdout",
          "text": [
            "Class weights: {0: np.float64(1.0), 1: np.float64(1.0), 2: np.float64(1.0)}\n",
            "Epoch 1/50\n",
            "\u001b[1m1/1\u001b[0m \u001b[32m━━━━━━━━━━━━━━━━━━━━\u001b[0m\u001b[37m\u001b[0m \u001b[1m13s\u001b[0m 13s/step - accuracy: 0.2812 - loss: 1.2703 - val_accuracy: 0.4688 - val_loss: 1.0750\n",
            "Epoch 2/50\n",
            "\u001b[1m1/1\u001b[0m \u001b[32m━━━━━━━━━━━━━━━━━━━━\u001b[0m\u001b[37m\u001b[0m \u001b[1m0s\u001b[0m 405ms/step - accuracy: 0.2812 - loss: 1.2465 - val_accuracy: 0.4688 - val_loss: 1.0646\n",
            "Epoch 3/50\n",
            "\u001b[1m1/1\u001b[0m \u001b[32m━━━━━━━━━━━━━━━━━━━━\u001b[0m\u001b[37m\u001b[0m \u001b[1m1s\u001b[0m 531ms/step - accuracy: 0.2812 - loss: 1.2235 - val_accuracy: 0.4688 - val_loss: 1.0550\n",
            "Epoch 4/50\n",
            "\u001b[1m1/1\u001b[0m \u001b[32m━━━━━━━━━━━━━━━━━━━━\u001b[0m\u001b[37m\u001b[0m \u001b[1m0s\u001b[0m 478ms/step - accuracy: 0.2812 - loss: 1.2014 - val_accuracy: 0.4688 - val_loss: 1.0463\n",
            "Epoch 5/50\n",
            "\u001b[1m1/1\u001b[0m \u001b[32m━━━━━━━━━━━━━━━━━━━━\u001b[0m\u001b[37m\u001b[0m \u001b[1m0s\u001b[0m 382ms/step - accuracy: 0.2812 - loss: 1.1802 - val_accuracy: 0.5000 - val_loss: 1.0385\n",
            "Epoch 6/50\n",
            "\u001b[1m1/1\u001b[0m \u001b[32m━━━━━━━━━━━━━━━━━━━━\u001b[0m\u001b[37m\u001b[0m \u001b[1m1s\u001b[0m 767ms/step - accuracy: 0.2812 - loss: 1.1597 - val_accuracy: 0.5000 - val_loss: 1.0314\n",
            "Epoch 7/50\n",
            "\u001b[1m1/1\u001b[0m \u001b[32m━━━━━━━━━━━━━━━━━━━━\u001b[0m\u001b[37m\u001b[0m \u001b[1m1s\u001b[0m 616ms/step - accuracy: 0.2812 - loss: 1.1401 - val_accuracy: 0.5000 - val_loss: 1.0251\n",
            "Epoch 8/50\n",
            "\u001b[1m1/1\u001b[0m \u001b[32m━━━━━━━━━━━━━━━━━━━━\u001b[0m\u001b[37m\u001b[0m \u001b[1m1s\u001b[0m 626ms/step - accuracy: 0.2812 - loss: 1.1213 - val_accuracy: 0.5000 - val_loss: 1.0195\n",
            "Epoch 9/50\n",
            "\u001b[1m1/1\u001b[0m \u001b[32m━━━━━━━━━━━━━━━━━━━━\u001b[0m\u001b[37m\u001b[0m \u001b[1m0s\u001b[0m 470ms/step - accuracy: 0.3125 - loss: 1.1034 - val_accuracy: 0.5000 - val_loss: 1.0146\n",
            "Epoch 10/50\n",
            "\u001b[1m1/1\u001b[0m \u001b[32m━━━━━━━━━━━━━━━━━━━━\u001b[0m\u001b[37m\u001b[0m \u001b[1m1s\u001b[0m 545ms/step - accuracy: 0.3438 - loss: 1.0862 - val_accuracy: 0.5000 - val_loss: 1.0104\n",
            "Epoch 11/50\n",
            "\u001b[1m1/1\u001b[0m \u001b[32m━━━━━━━━━━━━━━━━━━━━\u001b[0m\u001b[37m\u001b[0m \u001b[1m0s\u001b[0m 390ms/step - accuracy: 0.3438 - loss: 1.0698 - val_accuracy: 0.5000 - val_loss: 1.0068\n",
            "Epoch 12/50\n",
            "\u001b[1m1/1\u001b[0m \u001b[32m━━━━━━━━━━━━━━━━━━━━\u001b[0m\u001b[37m\u001b[0m \u001b[1m1s\u001b[0m 759ms/step - accuracy: 0.3438 - loss: 1.0541 - val_accuracy: 0.5312 - val_loss: 1.0037\n",
            "Epoch 13/50\n",
            "\u001b[1m1/1\u001b[0m \u001b[32m━━━━━━━━━━━━━━━━━━━━\u001b[0m\u001b[37m\u001b[0m \u001b[1m1s\u001b[0m 529ms/step - accuracy: 0.3750 - loss: 1.0391 - val_accuracy: 0.5625 - val_loss: 1.0012\n",
            "Epoch 14/50\n",
            "\u001b[1m1/1\u001b[0m \u001b[32m━━━━━━━━━━━━━━━━━━━━\u001b[0m\u001b[37m\u001b[0m \u001b[1m1s\u001b[0m 527ms/step - accuracy: 0.5000 - loss: 1.0248 - val_accuracy: 0.5625 - val_loss: 0.9990\n",
            "Epoch 15/50\n",
            "\u001b[1m1/1\u001b[0m \u001b[32m━━━━━━━━━━━━━━━━━━━━\u001b[0m\u001b[37m\u001b[0m \u001b[1m0s\u001b[0m 383ms/step - accuracy: 0.5000 - loss: 1.0112 - val_accuracy: 0.5312 - val_loss: 0.9973\n",
            "Epoch 16/50\n",
            "\u001b[1m1/1\u001b[0m \u001b[32m━━━━━━━━━━━━━━━━━━━━\u001b[0m\u001b[37m\u001b[0m \u001b[1m0s\u001b[0m 391ms/step - accuracy: 0.5625 - loss: 0.9981 - val_accuracy: 0.5312 - val_loss: 0.9959\n",
            "Epoch 17/50\n",
            "\u001b[1m1/1\u001b[0m \u001b[32m━━━━━━━━━━━━━━━━━━━━\u001b[0m\u001b[37m\u001b[0m \u001b[1m1s\u001b[0m 627ms/step - accuracy: 0.5938 - loss: 0.9856 - val_accuracy: 0.5312 - val_loss: 0.9948\n",
            "Epoch 18/50\n",
            "\u001b[1m1/1\u001b[0m \u001b[32m━━━━━━━━━━━━━━━━━━━━\u001b[0m\u001b[37m\u001b[0m \u001b[1m1s\u001b[0m 622ms/step - accuracy: 0.6250 - loss: 0.9736 - val_accuracy: 0.5625 - val_loss: 0.9940\n",
            "Epoch 19/50\n",
            "\u001b[1m1/1\u001b[0m \u001b[32m━━━━━━━━━━━━━━━━━━━━\u001b[0m\u001b[37m\u001b[0m \u001b[1m1s\u001b[0m 759ms/step - accuracy: 0.6250 - loss: 0.9622 - val_accuracy: 0.5625 - val_loss: 0.9933\n",
            "Epoch 20/50\n",
            "\u001b[1m1/1\u001b[0m \u001b[32m━━━━━━━━━━━━━━━━━━━━\u001b[0m\u001b[37m\u001b[0m \u001b[1m0s\u001b[0m 467ms/step - accuracy: 0.6250 - loss: 0.9511 - val_accuracy: 0.5000 - val_loss: 0.9928\n",
            "Epoch 21/50\n",
            "\u001b[1m1/1\u001b[0m \u001b[32m━━━━━━━━━━━━━━━━━━━━\u001b[0m\u001b[37m\u001b[0m \u001b[1m1s\u001b[0m 601ms/step - accuracy: 0.6250 - loss: 0.9405 - val_accuracy: 0.4688 - val_loss: 0.9923\n",
            "Epoch 22/50\n",
            "\u001b[1m1/1\u001b[0m \u001b[32m━━━━━━━━━━━━━━━━━━━━\u001b[0m\u001b[37m\u001b[0m \u001b[1m1s\u001b[0m 616ms/step - accuracy: 0.6562 - loss: 0.9303 - val_accuracy: 0.4688 - val_loss: 0.9920\n",
            "Epoch 23/50\n",
            "\u001b[1m1/1\u001b[0m \u001b[32m━━━━━━━━━━━━━━━━━━━━\u001b[0m\u001b[37m\u001b[0m \u001b[1m1s\u001b[0m 522ms/step - accuracy: 0.6562 - loss: 0.9204 - val_accuracy: 0.4688 - val_loss: 0.9916\n",
            "Epoch 24/50\n",
            "\u001b[1m1/1\u001b[0m \u001b[32m━━━━━━━━━━━━━━━━━━━━\u001b[0m\u001b[37m\u001b[0m \u001b[1m0s\u001b[0m 404ms/step - accuracy: 0.6562 - loss: 0.9108 - val_accuracy: 0.4688 - val_loss: 0.9912\n",
            "Epoch 25/50\n",
            "\u001b[1m1/1\u001b[0m \u001b[32m━━━━━━━━━━━━━━━━━━━━\u001b[0m\u001b[37m\u001b[0m \u001b[1m1s\u001b[0m 638ms/step - accuracy: 0.6562 - loss: 0.9015 - val_accuracy: 0.4688 - val_loss: 0.9908\n",
            "Epoch 26/50\n",
            "\u001b[1m1/1\u001b[0m \u001b[32m━━━━━━━━━━━━━━━━━━━━\u001b[0m\u001b[37m\u001b[0m \u001b[1m1s\u001b[0m 654ms/step - accuracy: 0.6562 - loss: 0.8925 - val_accuracy: 0.4688 - val_loss: 0.9903\n",
            "Epoch 27/50\n",
            "\u001b[1m1/1\u001b[0m \u001b[32m━━━━━━━━━━━━━━━━━━━━\u001b[0m\u001b[37m\u001b[0m \u001b[1m0s\u001b[0m 388ms/step - accuracy: 0.6562 - loss: 0.8836 - val_accuracy: 0.4688 - val_loss: 0.9898\n",
            "Epoch 28/50\n",
            "\u001b[1m1/1\u001b[0m \u001b[32m━━━━━━━━━━━━━━━━━━━━\u001b[0m\u001b[37m\u001b[0m \u001b[1m1s\u001b[0m 619ms/step - accuracy: 0.6562 - loss: 0.8750 - val_accuracy: 0.4688 - val_loss: 0.9891\n",
            "Epoch 29/50\n",
            "\u001b[1m1/1\u001b[0m \u001b[32m━━━━━━━━━━━━━━━━━━━━\u001b[0m\u001b[37m\u001b[0m \u001b[1m1s\u001b[0m 617ms/step - accuracy: 0.6875 - loss: 0.8666 - val_accuracy: 0.4688 - val_loss: 0.9883\n",
            "Epoch 30/50\n",
            "\u001b[1m1/1\u001b[0m \u001b[32m━━━━━━━━━━━━━━━━━━━━\u001b[0m\u001b[37m\u001b[0m \u001b[1m1s\u001b[0m 760ms/step - accuracy: 0.6875 - loss: 0.8584 - val_accuracy: 0.4688 - val_loss: 0.9873\n",
            "Epoch 31/50\n",
            "\u001b[1m1/1\u001b[0m \u001b[32m━━━━━━━━━━━━━━━━━━━━\u001b[0m\u001b[37m\u001b[0m \u001b[1m1s\u001b[0m 530ms/step - accuracy: 0.6875 - loss: 0.8503 - val_accuracy: 0.4688 - val_loss: 0.9863\n",
            "Epoch 32/50\n",
            "\u001b[1m1/1\u001b[0m \u001b[32m━━━━━━━━━━━━━━━━━━━━\u001b[0m\u001b[37m\u001b[0m \u001b[1m0s\u001b[0m 384ms/step - accuracy: 0.6875 - loss: 0.8424 - val_accuracy: 0.4688 - val_loss: 0.9851\n",
            "Epoch 33/50\n",
            "\u001b[1m1/1\u001b[0m \u001b[32m━━━━━━━━━━━━━━━━━━━━\u001b[0m\u001b[37m\u001b[0m \u001b[1m0s\u001b[0m 386ms/step - accuracy: 0.6875 - loss: 0.8346 - val_accuracy: 0.5000 - val_loss: 0.9837\n",
            "Epoch 34/50\n",
            "\u001b[1m1/1\u001b[0m \u001b[32m━━━━━━━━━━━━━━━━━━━━\u001b[0m\u001b[37m\u001b[0m \u001b[1m1s\u001b[0m 761ms/step - accuracy: 0.6875 - loss: 0.8269 - val_accuracy: 0.5000 - val_loss: 0.9822\n",
            "Epoch 35/50\n",
            "\u001b[1m1/1\u001b[0m \u001b[32m━━━━━━━━━━━━━━━━━━━━\u001b[0m\u001b[37m\u001b[0m \u001b[1m0s\u001b[0m 478ms/step - accuracy: 0.6875 - loss: 0.8193 - val_accuracy: 0.5000 - val_loss: 0.9805\n",
            "Epoch 36/50\n",
            "\u001b[1m1/1\u001b[0m \u001b[32m━━━━━━━━━━━━━━━━━━━━\u001b[0m\u001b[37m\u001b[0m \u001b[1m1s\u001b[0m 617ms/step - accuracy: 0.6875 - loss: 0.8118 - val_accuracy: 0.5000 - val_loss: 0.9787\n",
            "Epoch 37/50\n",
            "\u001b[1m1/1\u001b[0m \u001b[32m━━━━━━━━━━━━━━━━━━━━\u001b[0m\u001b[37m\u001b[0m \u001b[1m1s\u001b[0m 626ms/step - accuracy: 0.6875 - loss: 0.8045 - val_accuracy: 0.5000 - val_loss: 0.9768\n",
            "Epoch 38/50\n",
            "\u001b[1m1/1\u001b[0m \u001b[32m━━━━━━━━━━━━━━━━━━━━\u001b[0m\u001b[37m\u001b[0m \u001b[1m1s\u001b[0m 767ms/step - accuracy: 0.6875 - loss: 0.7972 - val_accuracy: 0.5000 - val_loss: 0.9747\n",
            "Epoch 39/50\n",
            "\u001b[1m1/1\u001b[0m \u001b[32m━━━━━━━━━━━━━━━━━━━━\u001b[0m\u001b[37m\u001b[0m \u001b[1m1s\u001b[0m 654ms/step - accuracy: 0.6875 - loss: 0.7900 - val_accuracy: 0.5000 - val_loss: 0.9726\n",
            "Epoch 40/50\n",
            "\u001b[1m1/1\u001b[0m \u001b[32m━━━━━━━━━━━━━━━━━━━━\u001b[0m\u001b[37m\u001b[0m \u001b[1m1s\u001b[0m 1s/step - accuracy: 0.6875 - loss: 0.7829 - val_accuracy: 0.5000 - val_loss: 0.9703\n",
            "Epoch 41/50\n",
            "\u001b[1m1/1\u001b[0m \u001b[32m━━━━━━━━━━━━━━━━━━━━\u001b[0m\u001b[37m\u001b[0m \u001b[1m1s\u001b[0m 759ms/step - accuracy: 0.6875 - loss: 0.7758 - val_accuracy: 0.5000 - val_loss: 0.9679\n",
            "Epoch 42/50\n",
            "\u001b[1m1/1\u001b[0m \u001b[32m━━━━━━━━━━━━━━━━━━━━\u001b[0m\u001b[37m\u001b[0m \u001b[1m1s\u001b[0m 528ms/step - accuracy: 0.6875 - loss: 0.7689 - val_accuracy: 0.5000 - val_loss: 0.9654\n",
            "Epoch 43/50\n",
            "\u001b[1m1/1\u001b[0m \u001b[32m━━━━━━━━━━━━━━━━━━━━\u001b[0m\u001b[37m\u001b[0m \u001b[1m1s\u001b[0m 625ms/step - accuracy: 0.7188 - loss: 0.7620 - val_accuracy: 0.5000 - val_loss: 0.9629\n",
            "Epoch 44/50\n",
            "\u001b[1m1/1\u001b[0m \u001b[32m━━━━━━━━━━━━━━━━━━━━\u001b[0m\u001b[37m\u001b[0m \u001b[1m1s\u001b[0m 613ms/step - accuracy: 0.7188 - loss: 0.7553 - val_accuracy: 0.5000 - val_loss: 0.9602\n",
            "Epoch 45/50\n",
            "\u001b[1m1/1\u001b[0m \u001b[32m━━━━━━━━━━━━━━━━━━━━\u001b[0m\u001b[37m\u001b[0m \u001b[1m1s\u001b[0m 530ms/step - accuracy: 0.7188 - loss: 0.7486 - val_accuracy: 0.5000 - val_loss: 0.9575\n",
            "Epoch 46/50\n",
            "\u001b[1m1/1\u001b[0m \u001b[32m━━━━━━━━━━━━━━━━━━━━\u001b[0m\u001b[37m\u001b[0m \u001b[1m0s\u001b[0m 394ms/step - accuracy: 0.7188 - loss: 0.7419 - val_accuracy: 0.5000 - val_loss: 0.9548\n",
            "Epoch 47/50\n",
            "\u001b[1m1/1\u001b[0m \u001b[32m━━━━━━━━━━━━━━━━━━━━\u001b[0m\u001b[37m\u001b[0m \u001b[1m1s\u001b[0m 613ms/step - accuracy: 0.7188 - loss: 0.7354 - val_accuracy: 0.5000 - val_loss: 0.9521\n",
            "Epoch 48/50\n",
            "\u001b[1m1/1\u001b[0m \u001b[32m━━━━━━━━━━━━━━━━━━━━\u001b[0m\u001b[37m\u001b[0m \u001b[1m1s\u001b[0m 619ms/step - accuracy: 0.7188 - loss: 0.7289 - val_accuracy: 0.5000 - val_loss: 0.9493\n",
            "Epoch 49/50\n",
            "\u001b[1m1/1\u001b[0m \u001b[32m━━━━━━━━━━━━━━━━━━━━\u001b[0m\u001b[37m\u001b[0m \u001b[1m1s\u001b[0m 807ms/step - accuracy: 0.7500 - loss: 0.7225 - val_accuracy: 0.5000 - val_loss: 0.9464\n",
            "Epoch 50/50\n",
            "\u001b[1m1/1\u001b[0m \u001b[32m━━━━━━━━━━━━━━━━━━━━\u001b[0m\u001b[37m\u001b[0m \u001b[1m1s\u001b[0m 616ms/step - accuracy: 0.7812 - loss: 0.7162 - val_accuracy: 0.5000 - val_loss: 0.9436\n"
          ]
        }
      ],
      "source": [
        "# Import necessary libraries\n",
        "from sklearn.utils import class_weight\n",
        "import numpy as np\n",
        "from tensorflow.keras.callbacks import EarlyStopping\n",
        "\n",
        "# Assuming train_generator and val_generator are your data generators\n",
        "# Extract data and labels from the generators\n",
        "X_train, y_train = next(train_generator)\n",
        "X_val, y_val = next(val_generator)\n",
        "\n",
        "# Compute class weights based on the class distribution\n",
        "class_weights = class_weight.compute_class_weight(\n",
        "    class_weight='balanced',\n",
        "    classes=np.unique(train_generator.classes),\n",
        "    y=train_generator.classes\n",
        ")\n",
        "\n",
        "# Convert the class weights to a dictionary format\n",
        "class_weight_dict = dict(enumerate(class_weights))\n",
        "print(f\"Class weights: {class_weight_dict}\")\n",
        "\n",
        "# Unfreeze some layers for fine-tuning\n",
        "for layer in vgg16.layers[:15]:\n",
        "    layer.trainable = False\n",
        "# Ensure the model is compiled before training\n",
        "vgg16.compile(optimizer=Adam(learning_rate=1e-5), loss='categorical_crossentropy', metrics=['accuracy'])\n",
        "\n",
        "early_stopping = EarlyStopping(monitor='val_loss', patience=3, restore_best_weights=True)\n",
        "\n",
        "# Fit the model using the extracted data\n",
        "history = vgg16.fit(\n",
        "    X_train, y_train,\n",
        "    validation_data=(X_val, y_val),\n",
        "    epochs=50,\n",
        "    callbacks=[early_stopping]\n",
        ")"
      ]
    },
    {
      "cell_type": "code",
      "execution_count": null,
      "metadata": {
        "id": "v-fgA5Jnp5_r",
        "colab": {
          "base_uri": "https://localhost:8080/",
          "height": 927
        },
        "outputId": "15f2a95f-060c-4b88-f3ec-1eb030241cf6"
      },
      "outputs": [
        {
          "output_type": "display_data",
          "data": {
            "text/plain": [
              "<Figure size 640x480 with 1 Axes>"
            ],
            "image/png": "[encoded data removed]"
          },
          "metadata": {}
        },
        {
          "output_type": "display_data",
          "data": {
            "text/plain": [
              "<Figure size 640x480 with 1 Axes>"
            ],
            "image/png": "[encoded data removed]"
          },
          "metadata": {}
        }
      ],
      "source": [
        "import matplotlib.pyplot as plt\n",
        "\n",
        "# Plot training & validation accuracy\n",
        "plt.plot(history.history['accuracy'])\n",
        "plt.plot(history.history['val_accuracy'])\n",
        "plt.title('Model accuracy')\n",
        "plt.xlabel('Epoch')\n",
        "plt.ylabel('Accuracy')\n",
        "plt.legend(['Train', 'Val'], loc='upper left')\n",
        "plt.show()\n",
        "\n",
        "# Plot training & validation loss\n",
        "plt.plot(history.history['loss'])\n",
        "plt.plot(history.history['val_loss'])\n",
        "plt.title('Model loss')\n",
        "plt.xlabel('Epoch')\n",
        "plt.ylabel('Loss')\n",
        "plt.legend(['Train', 'Val'], loc='upper left')\n",
        "plt.show()"
      ]
    },
    {
      "cell_type": "code",
      "execution_count": null,
      "metadata": {
        "id": "Fv9YKHh4qPiD",
        "colab": {
          "base_uri": "https://localhost:8080/"
        },
        "outputId": "7ffba38e-f0d7-4887-9b17-cb77f47f8160"
      },
      "outputs": [
        {
          "output_type": "stream",
          "name": "stderr",
          "text": [
            "/usr/local/lib/python3.11/dist-packages/keras/src/trainers/data_adapters/py_dataset_adapter.py:121: UserWarning: Your `PyDataset` class should call `super().__init__(**kwargs)` in its constructor. `**kwargs` can include `workers`, `use_multiprocessing`, `max_queue_size`. Do not pass these arguments to `fit()`, as they will be ignored.\n",
            "  self._warn_if_super_not_called()\n"
          ]
        },
        {
          "output_type": "stream",
          "name": "stdout",
          "text": [
            "\u001b[1m3/3\u001b[0m \u001b[32m━━━━━━━━━━━━━━━━━━━━\u001b[0m\u001b[37m\u001b[0m \u001b[1m7s\u001b[0m 3s/step - accuracy: 0.5025 - loss: 0.9296\n",
            "Test loss: 0.9266893267631531, Test accuracy: 0.5128205418586731\n"
          ]
        }
      ],
      "source": [
        "test_loss, test_accuracy = vgg16.evaluate(test_generator)\n",
        "print(f\"Test loss: {test_loss}, Test accuracy: {test_accuracy}\")"
      ]
    },
    {
      "cell_type": "code",
      "source": [
        "!ls '/content/output_dataset/val/Trash Images'\n"
      ],
      "metadata": {
        "colab": {
          "base_uri": "https://localhost:8080/"
        },
        "id": "lc_zmAJmeUDO",
        "outputId": "282b7a55-fe99-431e-b97e-0b9e12dc6f10"
      },
      "execution_count": null,
      "outputs": [
        {
          "output_type": "stream",
          "name": "stdout",
          "text": [
            "TRAIN.2_NBIODEG_CCW_1007.jpg  trash108.jpeg  trash15.jpeg  trash87.jpeg\n",
            "TRAIN.2_NBIODEG_CCW_100.jpg   trash112.jpeg  trash23.jpeg  trash92.jpeg\n",
            "TRAIN.4_NBIODEG_CCW_1503.jpg  trash120.jpeg  trash3.jpeg   trash98.jpeg\n",
            "TRAIN.4_NBIODEG_CCW_2209.jpg  trash128.jpeg  trash66.jpeg\n",
            "TRAIN.4_NBIODEG_CCW_2210.jpg  trash129.jpeg  trash75.jpeg\n",
            "TRAIN.4_NBIODEG_CCW_2372.jpg  trash134.jpeg  trash78.jpeg\n"
          ]
        }
      ]
    },
    {
      "cell_type": "code",
      "execution_count": null,
      "metadata": {
        "id": "cHcNFhZyrjLv",
        "colab": {
          "base_uri": "https://localhost:8080/"
        },
        "outputId": "a3fec931-a33c-4e14-9412-863ee93071de"
      },
      "outputs": [
        {
          "output_type": "stream",
          "name": "stdout",
          "text": [
            "\u001b[1m1/1\u001b[0m \u001b[32m━━━━━━━━━━━━━━━━━━━━\u001b[0m\u001b[37m\u001b[0m \u001b[1m2s\u001b[0m 2s/step\n",
            "Predicted class: Recyclable Images\n"
          ]
        }
      ],
      "source": [
        "# After training, make predictions on a sample image\n",
        "img_path = 'output_dataset/val/Trash Images/trash23.jpeg'\n",
        "img = load_img(img_path, target_size=(224, 224))\n",
        "\n",
        "# Convert image to array\n",
        "x = img_to_array(img)\n",
        "\n",
        "# Preprocess image as required by VGG16\n",
        "x = preprocess_input(x)\n",
        "\n",
        "# Predict with VGG16\n",
        "preds = vgg16.predict(np.array([x]))\n",
        "\n",
        "# Get the predicted class index (highest probability)\n",
        "predicted_class_index = np.argmax(preds, axis=1)\n",
        "\n",
        "# Decode the predicted class\n",
        "class_labels = list(train_generator.class_indices.keys())  # Get the class labels from the train generator\n",
        "predicted_class_label = class_labels[predicted_class_index[0]]  # Get class label by index\n",
        "\n",
        "print(f\"Predicted class: {predicted_class_label}\")"
      ]
    },
    {
      "cell_type": "code",
      "execution_count": null,
      "metadata": {
        "id": "tcUErw3urp_J",
        "colab": {
          "base_uri": "https://localhost:8080/",
          "height": 817
        },
        "outputId": "56a7b0b5-2777-45fd-ce41-301919445cad"
      },
      "outputs": [
        {
          "output_type": "display_data",
          "data": {
            "text/plain": [
              "\u001b[1mModel: \"functional\"\u001b[0m\n"
            ],
            "text/html": [
              "<pre style=\"white-space:pre;overflow-x:auto;line-height:normal;font-family:Menlo,'DejaVu Sans Mono',consolas,'Courier New',monospace\"><span style=\"font-weight: bold\">Model: \"functional\"</span>\n",
              "</pre>\n"
            ]
          },
          "metadata": {}
        },
        {
          "output_type": "display_data",
          "data": {
            "text/plain": [
              "┏━━━━━━━━━━━━━━━━━━━━━━━━━━━━━━━━━┳━━━━━━━━━━━━━━━━━━━━━━━━┳━━━━━━━━━━━━━━━┓\n",
              "┃\u001b[1m \u001b[0m\u001b[1mLayer (type)                   \u001b[0m\u001b[1m \u001b[0m┃\u001b[1m \u001b[0m\u001b[1mOutput Shape          \u001b[0m\u001b[1m \u001b[0m┃\u001b[1m \u001b[0m\u001b[1m      Param #\u001b[0m\u001b[1m \u001b[0m┃\n",
              "┡━━━━━━━━━━━━━━━━━━━━━━━━━━━━━━━━━╇━━━━━━━━━━━━━━━━━━━━━━━━╇━━━━━━━━━━━━━━━┩\n",
              "│ input_layer (\u001b[38;5;33mInputLayer\u001b[0m)        │ (\u001b[38;5;45mNone\u001b[0m, \u001b[38;5;34m224\u001b[0m, \u001b[38;5;34m224\u001b[0m, \u001b[38;5;34m3\u001b[0m)    │             \u001b[38;5;34m0\u001b[0m │\n",
              "├─────────────────────────────────┼────────────────────────┼───────────────┤\n",
              "│ block1_conv1 (\u001b[38;5;33mConv2D\u001b[0m)           │ (\u001b[38;5;45mNone\u001b[0m, \u001b[38;5;34m224\u001b[0m, \u001b[38;5;34m224\u001b[0m, \u001b[38;5;34m64\u001b[0m)   │         \u001b[38;5;34m1,792\u001b[0m │\n",
              "├─────────────────────────────────┼────────────────────────┼───────────────┤\n",
              "│ block1_conv2 (\u001b[38;5;33mConv2D\u001b[0m)           │ (\u001b[38;5;45mNone\u001b[0m, \u001b[38;5;34m224\u001b[0m, \u001b[38;5;34m224\u001b[0m, \u001b[38;5;34m64\u001b[0m)   │        \u001b[38;5;34m36,928\u001b[0m │\n",
              "├─────────────────────────────────┼────────────────────────┼───────────────┤\n",
              "│ block1_pool (\u001b[38;5;33mMaxPooling2D\u001b[0m)      │ (\u001b[38;5;45mNone\u001b[0m, \u001b[38;5;34m112\u001b[0m, \u001b[38;5;34m112\u001b[0m, \u001b[38;5;34m64\u001b[0m)   │             \u001b[38;5;34m0\u001b[0m │\n",
              "├─────────────────────────────────┼────────────────────────┼───────────────┤\n",
              "│ block2_conv1 (\u001b[38;5;33mConv2D\u001b[0m)           │ (\u001b[38;5;45mNone\u001b[0m, \u001b[38;5;34m112\u001b[0m, \u001b[38;5;34m112\u001b[0m, \u001b[38;5;34m128\u001b[0m)  │        \u001b[38;5;34m73,856\u001b[0m │\n",
              "├─────────────────────────────────┼────────────────────────┼───────────────┤\n",
              "│ block2_conv2 (\u001b[38;5;33mConv2D\u001b[0m)           │ (\u001b[38;5;45mNone\u001b[0m, \u001b[38;5;34m112\u001b[0m, \u001b[38;5;34m112\u001b[0m, \u001b[38;5;34m128\u001b[0m)  │       \u001b[38;5;34m147,584\u001b[0m │\n",
              "├─────────────────────────────────┼────────────────────────┼───────────────┤\n",
              "│ block2_pool (\u001b[38;5;33mMaxPooling2D\u001b[0m)      │ (\u001b[38;5;45mNone\u001b[0m, \u001b[38;5;34m56\u001b[0m, \u001b[38;5;34m56\u001b[0m, \u001b[38;5;34m128\u001b[0m)    │             \u001b[38;5;34m0\u001b[0m │\n",
              "├─────────────────────────────────┼────────────────────────┼───────────────┤\n",
              "│ block3_conv1 (\u001b[38;5;33mConv2D\u001b[0m)           │ (\u001b[38;5;45mNone\u001b[0m, \u001b[38;5;34m56\u001b[0m, \u001b[38;5;34m56\u001b[0m, \u001b[38;5;34m256\u001b[0m)    │       \u001b[38;5;34m295,168\u001b[0m │\n",
              "├─────────────────────────────────┼────────────────────────┼───────────────┤\n",
              "│ block3_conv2 (\u001b[38;5;33mConv2D\u001b[0m)           │ (\u001b[38;5;45mNone\u001b[0m, \u001b[38;5;34m56\u001b[0m, \u001b[38;5;34m56\u001b[0m, \u001b[38;5;34m256\u001b[0m)    │       \u001b[38;5;34m590,080\u001b[0m │\n",
              "├─────────────────────────────────┼────────────────────────┼───────────────┤\n",
              "│ block3_conv3 (\u001b[38;5;33mConv2D\u001b[0m)           │ (\u001b[38;5;45mNone\u001b[0m, \u001b[38;5;34m56\u001b[0m, \u001b[38;5;34m56\u001b[0m, \u001b[38;5;34m256\u001b[0m)    │       \u001b[38;5;34m590,080\u001b[0m │\n",
              "├─────────────────────────────────┼────────────────────────┼───────────────┤\n",
              "│ block3_pool (\u001b[38;5;33mMaxPooling2D\u001b[0m)      │ (\u001b[38;5;45mNone\u001b[0m, \u001b[38;5;34m28\u001b[0m, \u001b[38;5;34m28\u001b[0m, \u001b[38;5;34m256\u001b[0m)    │             \u001b[38;5;34m0\u001b[0m │\n",
              "├─────────────────────────────────┼────────────────────────┼───────────────┤\n",
              "│ block4_conv1 (\u001b[38;5;33mConv2D\u001b[0m)           │ (\u001b[38;5;45mNone\u001b[0m, \u001b[38;5;34m28\u001b[0m, \u001b[38;5;34m28\u001b[0m, \u001b[38;5;34m512\u001b[0m)    │     \u001b[38;5;34m1,180,160\u001b[0m │\n",
              "├─────────────────────────────────┼────────────────────────┼───────────────┤\n",
              "│ block4_conv2 (\u001b[38;5;33mConv2D\u001b[0m)           │ (\u001b[38;5;45mNone\u001b[0m, \u001b[38;5;34m28\u001b[0m, \u001b[38;5;34m28\u001b[0m, \u001b[38;5;34m512\u001b[0m)    │     \u001b[38;5;34m2,359,808\u001b[0m │\n",
              "├─────────────────────────────────┼────────────────────────┼───────────────┤\n",
              "│ block4_conv3 (\u001b[38;5;33mConv2D\u001b[0m)           │ (\u001b[38;5;45mNone\u001b[0m, \u001b[38;5;34m28\u001b[0m, \u001b[38;5;34m28\u001b[0m, \u001b[38;5;34m512\u001b[0m)    │     \u001b[38;5;34m2,359,808\u001b[0m │\n",
              "├─────────────────────────────────┼────────────────────────┼───────────────┤\n",
              "│ block4_pool (\u001b[38;5;33mMaxPooling2D\u001b[0m)      │ (\u001b[38;5;45mNone\u001b[0m, \u001b[38;5;34m14\u001b[0m, \u001b[38;5;34m14\u001b[0m, \u001b[38;5;34m512\u001b[0m)    │             \u001b[38;5;34m0\u001b[0m │\n",
              "├─────────────────────────────────┼────────────────────────┼───────────────┤\n",
              "│ block5_conv1 (\u001b[38;5;33mConv2D\u001b[0m)           │ (\u001b[38;5;45mNone\u001b[0m, \u001b[38;5;34m14\u001b[0m, \u001b[38;5;34m14\u001b[0m, \u001b[38;5;34m512\u001b[0m)    │     \u001b[38;5;34m2,359,808\u001b[0m │\n",
              "├─────────────────────────────────┼────────────────────────┼───────────────┤\n",
              "│ block5_conv2 (\u001b[38;5;33mConv2D\u001b[0m)           │ (\u001b[38;5;45mNone\u001b[0m, \u001b[38;5;34m14\u001b[0m, \u001b[38;5;34m14\u001b[0m, \u001b[38;5;34m512\u001b[0m)    │     \u001b[38;5;34m2,359,808\u001b[0m │\n",
              "├─────────────────────────────────┼────────────────────────┼───────────────┤\n",
              "│ block5_conv3 (\u001b[38;5;33mConv2D\u001b[0m)           │ (\u001b[38;5;45mNone\u001b[0m, \u001b[38;5;34m14\u001b[0m, \u001b[38;5;34m14\u001b[0m, \u001b[38;5;34m512\u001b[0m)    │     \u001b[38;5;34m2,359,808\u001b[0m │\n",
              "├─────────────────────────────────┼────────────────────────┼───────────────┤\n",
              "│ block5_pool (\u001b[38;5;33mMaxPooling2D\u001b[0m)      │ (\u001b[38;5;45mNone\u001b[0m, \u001b[38;5;34m7\u001b[0m, \u001b[38;5;34m7\u001b[0m, \u001b[38;5;34m512\u001b[0m)      │             \u001b[38;5;34m0\u001b[0m │\n",
              "├─────────────────────────────────┼────────────────────────┼───────────────┤\n",
              "│ flatten (\u001b[38;5;33mFlatten\u001b[0m)               │ (\u001b[38;5;45mNone\u001b[0m, \u001b[38;5;34m25088\u001b[0m)          │             \u001b[38;5;34m0\u001b[0m │\n",
              "├─────────────────────────────────┼────────────────────────┼───────────────┤\n",
              "│ dense (\u001b[38;5;33mDense\u001b[0m)                   │ (\u001b[38;5;45mNone\u001b[0m, \u001b[38;5;34m3\u001b[0m)              │        \u001b[38;5;34m75,267\u001b[0m │\n",
              "└─────────────────────────────────┴────────────────────────┴───────────────┘\n"
            ],
            "text/html": [
              "<pre style=\"white-space:pre;overflow-x:auto;line-height:normal;font-family:Menlo,'DejaVu Sans Mono',consolas,'Courier New',monospace\">┏━━━━━━━━━━━━━━━━━━━━━━━━━━━━━━━━━┳━━━━━━━━━━━━━━━━━━━━━━━━┳━━━━━━━━━━━━━━━┓\n",
              "┃<span style=\"font-weight: bold\"> Layer (type)                    </span>┃<span style=\"font-weight: bold\"> Output Shape           </span>┃<span style=\"font-weight: bold\">       Param # </span>┃\n",
              "┡━━━━━━━━━━━━━━━━━━━━━━━━━━━━━━━━━╇━━━━━━━━━━━━━━━━━━━━━━━━╇━━━━━━━━━━━━━━━┩\n",
              "│ input_layer (<span style=\"color: #0087ff; text-decoration-color: #0087ff\">InputLayer</span>)        │ (<span style=\"color: #00d7ff; text-decoration-color: #00d7ff\">None</span>, <span style=\"color: #00af00; text-decoration-color: #00af00\">224</span>, <span style=\"color: #00af00; text-decoration-color: #00af00\">224</span>, <span style=\"color: #00af00; text-decoration-color: #00af00\">3</span>)    │             <span style=\"color: #00af00; text-decoration-color: #00af00\">0</span> │\n",
              "├─────────────────────────────────┼────────────────────────┼───────────────┤\n",
              "│ block1_conv1 (<span style=\"color: #0087ff; text-decoration-color: #0087ff\">Conv2D</span>)           │ (<span style=\"color: #00d7ff; text-decoration-color: #00d7ff\">None</span>, <span style=\"color: #00af00; text-decoration-color: #00af00\">224</span>, <span style=\"color: #00af00; text-decoration-color: #00af00\">224</span>, <span style=\"color: #00af00; text-decoration-color: #00af00\">64</span>)   │         <span style=\"color: #00af00; text-decoration-color: #00af00\">1,792</span> │\n",
              "├─────────────────────────────────┼────────────────────────┼───────────────┤\n",
              "│ block1_conv2 (<span style=\"color: #0087ff; text-decoration-color: #0087ff\">Conv2D</span>)           │ (<span style=\"color: #00d7ff; text-decoration-color: #00d7ff\">None</span>, <span style=\"color: #00af00; text-decoration-color: #00af00\">224</span>, <span style=\"color: #00af00; text-decoration-color: #00af00\">224</span>, <span style=\"color: #00af00; text-decoration-color: #00af00\">64</span>)   │        <span style=\"color: #00af00; text-decoration-color: #00af00\">36,928</span> │\n",
              "├─────────────────────────────────┼────────────────────────┼───────────────┤\n",
              "│ block1_pool (<span style=\"color: #0087ff; text-decoration-color: #0087ff\">MaxPooling2D</span>)      │ (<span style=\"color: #00d7ff; text-decoration-color: #00d7ff\">None</span>, <span style=\"color: #00af00; text-decoration-color: #00af00\">112</span>, <span style=\"color: #00af00; text-decoration-color: #00af00\">112</span>, <span style=\"color: #00af00; text-decoration-color: #00af00\">64</span>)   │             <span style=\"color: #00af00; text-decoration-color: #00af00\">0</span> │\n",
              "├─────────────────────────────────┼────────────────────────┼───────────────┤\n",
              "│ block2_conv1 (<span style=\"color: #0087ff; text-decoration-color: #0087ff\">Conv2D</span>)           │ (<span style=\"color: #00d7ff; text-decoration-color: #00d7ff\">None</span>, <span style=\"color: #00af00; text-decoration-color: #00af00\">112</span>, <span style=\"color: #00af00; text-decoration-color: #00af00\">112</span>, <span style=\"color: #00af00; text-decoration-color: #00af00\">128</span>)  │        <span style=\"color: #00af00; text-decoration-color: #00af00\">73,856</span> │\n",
              "├─────────────────────────────────┼────────────────────────┼───────────────┤\n",
              "│ block2_conv2 (<span style=\"color: #0087ff; text-decoration-color: #0087ff\">Conv2D</span>)           │ (<span style=\"color: #00d7ff; text-decoration-color: #00d7ff\">None</span>, <span style=\"color: #00af00; text-decoration-color: #00af00\">112</span>, <span style=\"color: #00af00; text-decoration-color: #00af00\">112</span>, <span style=\"color: #00af00; text-decoration-color: #00af00\">128</span>)  │       <span style=\"color: #00af00; text-decoration-color: #00af00\">147,584</span> │\n",
              "├─────────────────────────────────┼────────────────────────┼───────────────┤\n",
              "│ block2_pool (<span style=\"color: #0087ff; text-decoration-color: #0087ff\">MaxPooling2D</span>)      │ (<span style=\"color: #00d7ff; text-decoration-color: #00d7ff\">None</span>, <span style=\"color: #00af00; text-decoration-color: #00af00\">56</span>, <span style=\"color: #00af00; text-decoration-color: #00af00\">56</span>, <span style=\"color: #00af00; text-decoration-color: #00af00\">128</span>)    │             <span style=\"color: #00af00; text-decoration-color: #00af00\">0</span> │\n",
              "├─────────────────────────────────┼────────────────────────┼───────────────┤\n",
              "│ block3_conv1 (<span style=\"color: #0087ff; text-decoration-color: #0087ff\">Conv2D</span>)           │ (<span style=\"color: #00d7ff; text-decoration-color: #00d7ff\">None</span>, <span style=\"color: #00af00; text-decoration-color: #00af00\">56</span>, <span style=\"color: #00af00; text-decoration-color: #00af00\">56</span>, <span style=\"color: #00af00; text-decoration-color: #00af00\">256</span>)    │       <span style=\"color: #00af00; text-decoration-color: #00af00\">295,168</span> │\n",
              "├─────────────────────────────────┼────────────────────────┼───────────────┤\n",
              "│ block3_conv2 (<span style=\"color: #0087ff; text-decoration-color: #0087ff\">Conv2D</span>)           │ (<span style=\"color: #00d7ff; text-decoration-color: #00d7ff\">None</span>, <span style=\"color: #00af00; text-decoration-color: #00af00\">56</span>, <span style=\"color: #00af00; text-decoration-color: #00af00\">56</span>, <span style=\"color: #00af00; text-decoration-color: #00af00\">256</span>)    │       <span style=\"color: #00af00; text-decoration-color: #00af00\">590,080</span> │\n",
              "├─────────────────────────────────┼────────────────────────┼───────────────┤\n",
              "│ block3_conv3 (<span style=\"color: #0087ff; text-decoration-color: #0087ff\">Conv2D</span>)           │ (<span style=\"color: #00d7ff; text-decoration-color: #00d7ff\">None</span>, <span style=\"color: #00af00; text-decoration-color: #00af00\">56</span>, <span style=\"color: #00af00; text-decoration-color: #00af00\">56</span>, <span style=\"color: #00af00; text-decoration-color: #00af00\">256</span>)    │       <span style=\"color: #00af00; text-decoration-color: #00af00\">590,080</span> │\n",
              "├─────────────────────────────────┼────────────────────────┼───────────────┤\n",
              "│ block3_pool (<span style=\"color: #0087ff; text-decoration-color: #0087ff\">MaxPooling2D</span>)      │ (<span style=\"color: #00d7ff; text-decoration-color: #00d7ff\">None</span>, <span style=\"color: #00af00; text-decoration-color: #00af00\">28</span>, <span style=\"color: #00af00; text-decoration-color: #00af00\">28</span>, <span style=\"color: #00af00; text-decoration-color: #00af00\">256</span>)    │             <span style=\"color: #00af00; text-decoration-color: #00af00\">0</span> │\n",
              "├─────────────────────────────────┼────────────────────────┼───────────────┤\n",
              "│ block4_conv1 (<span style=\"color: #0087ff; text-decoration-color: #0087ff\">Conv2D</span>)           │ (<span style=\"color: #00d7ff; text-decoration-color: #00d7ff\">None</span>, <span style=\"color: #00af00; text-decoration-color: #00af00\">28</span>, <span style=\"color: #00af00; text-decoration-color: #00af00\">28</span>, <span style=\"color: #00af00; text-decoration-color: #00af00\">512</span>)    │     <span style=\"color: #00af00; text-decoration-color: #00af00\">1,180,160</span> │\n",
              "├─────────────────────────────────┼────────────────────────┼───────────────┤\n",
              "│ block4_conv2 (<span style=\"color: #0087ff; text-decoration-color: #0087ff\">Conv2D</span>)           │ (<span style=\"color: #00d7ff; text-decoration-color: #00d7ff\">None</span>, <span style=\"color: #00af00; text-decoration-color: #00af00\">28</span>, <span style=\"color: #00af00; text-decoration-color: #00af00\">28</span>, <span style=\"color: #00af00; text-decoration-color: #00af00\">512</span>)    │     <span style=\"color: #00af00; text-decoration-color: #00af00\">2,359,808</span> │\n",
              "├─────────────────────────────────┼────────────────────────┼───────────────┤\n",
              "│ block4_conv3 (<span style=\"color: #0087ff; text-decoration-color: #0087ff\">Conv2D</span>)           │ (<span style=\"color: #00d7ff; text-decoration-color: #00d7ff\">None</span>, <span style=\"color: #00af00; text-decoration-color: #00af00\">28</span>, <span style=\"color: #00af00; text-decoration-color: #00af00\">28</span>, <span style=\"color: #00af00; text-decoration-color: #00af00\">512</span>)    │     <span style=\"color: #00af00; text-decoration-color: #00af00\">2,359,808</span> │\n",
              "├─────────────────────────────────┼────────────────────────┼───────────────┤\n",
              "│ block4_pool (<span style=\"color: #0087ff; text-decoration-color: #0087ff\">MaxPooling2D</span>)      │ (<span style=\"color: #00d7ff; text-decoration-color: #00d7ff\">None</span>, <span style=\"color: #00af00; text-decoration-color: #00af00\">14</span>, <span style=\"color: #00af00; text-decoration-color: #00af00\">14</span>, <span style=\"color: #00af00; text-decoration-color: #00af00\">512</span>)    │             <span style=\"color: #00af00; text-decoration-color: #00af00\">0</span> │\n",
              "├─────────────────────────────────┼────────────────────────┼───────────────┤\n",
              "│ block5_conv1 (<span style=\"color: #0087ff; text-decoration-color: #0087ff\">Conv2D</span>)           │ (<span style=\"color: #00d7ff; text-decoration-color: #00d7ff\">None</span>, <span style=\"color: #00af00; text-decoration-color: #00af00\">14</span>, <span style=\"color: #00af00; text-decoration-color: #00af00\">14</span>, <span style=\"color: #00af00; text-decoration-color: #00af00\">512</span>)    │     <span style=\"color: #00af00; text-decoration-color: #00af00\">2,359,808</span> │\n",
              "├─────────────────────────────────┼────────────────────────┼───────────────┤\n",
              "│ block5_conv2 (<span style=\"color: #0087ff; text-decoration-color: #0087ff\">Conv2D</span>)           │ (<span style=\"color: #00d7ff; text-decoration-color: #00d7ff\">None</span>, <span style=\"color: #00af00; text-decoration-color: #00af00\">14</span>, <span style=\"color: #00af00; text-decoration-color: #00af00\">14</span>, <span style=\"color: #00af00; text-decoration-color: #00af00\">512</span>)    │     <span style=\"color: #00af00; text-decoration-color: #00af00\">2,359,808</span> │\n",
              "├─────────────────────────────────┼────────────────────────┼───────────────┤\n",
              "│ block5_conv3 (<span style=\"color: #0087ff; text-decoration-color: #0087ff\">Conv2D</span>)           │ (<span style=\"color: #00d7ff; text-decoration-color: #00d7ff\">None</span>, <span style=\"color: #00af00; text-decoration-color: #00af00\">14</span>, <span style=\"color: #00af00; text-decoration-color: #00af00\">14</span>, <span style=\"color: #00af00; text-decoration-color: #00af00\">512</span>)    │     <span style=\"color: #00af00; text-decoration-color: #00af00\">2,359,808</span> │\n",
              "├─────────────────────────────────┼────────────────────────┼───────────────┤\n",
              "│ block5_pool (<span style=\"color: #0087ff; text-decoration-color: #0087ff\">MaxPooling2D</span>)      │ (<span style=\"color: #00d7ff; text-decoration-color: #00d7ff\">None</span>, <span style=\"color: #00af00; text-decoration-color: #00af00\">7</span>, <span style=\"color: #00af00; text-decoration-color: #00af00\">7</span>, <span style=\"color: #00af00; text-decoration-color: #00af00\">512</span>)      │             <span style=\"color: #00af00; text-decoration-color: #00af00\">0</span> │\n",
              "├─────────────────────────────────┼────────────────────────┼───────────────┤\n",
              "│ flatten (<span style=\"color: #0087ff; text-decoration-color: #0087ff\">Flatten</span>)               │ (<span style=\"color: #00d7ff; text-decoration-color: #00d7ff\">None</span>, <span style=\"color: #00af00; text-decoration-color: #00af00\">25088</span>)          │             <span style=\"color: #00af00; text-decoration-color: #00af00\">0</span> │\n",
              "├─────────────────────────────────┼────────────────────────┼───────────────┤\n",
              "│ dense (<span style=\"color: #0087ff; text-decoration-color: #0087ff\">Dense</span>)                   │ (<span style=\"color: #00d7ff; text-decoration-color: #00d7ff\">None</span>, <span style=\"color: #00af00; text-decoration-color: #00af00\">3</span>)              │        <span style=\"color: #00af00; text-decoration-color: #00af00\">75,267</span> │\n",
              "└─────────────────────────────────┴────────────────────────┴───────────────┘\n",
              "</pre>\n"
            ]
          },
          "metadata": {}
        },
        {
          "output_type": "display_data",
          "data": {
            "text/plain": [
              "\u001b[1m Total params: \u001b[0m\u001b[38;5;34m14,940,491\u001b[0m (56.99 MB)\n"
            ],
            "text/html": [
              "<pre style=\"white-space:pre;overflow-x:auto;line-height:normal;font-family:Menlo,'DejaVu Sans Mono',consolas,'Courier New',monospace\"><span style=\"font-weight: bold\"> Total params: </span><span style=\"color: #00af00; text-decoration-color: #00af00\">14,940,491</span> (56.99 MB)\n",
              "</pre>\n"
            ]
          },
          "metadata": {}
        },
        {
          "output_type": "display_data",
          "data": {
            "text/plain": [
              "\u001b[1m Trainable params: \u001b[0m\u001b[38;5;34m75,267\u001b[0m (294.01 KB)\n"
            ],
            "text/html": [
              "<pre style=\"white-space:pre;overflow-x:auto;line-height:normal;font-family:Menlo,'DejaVu Sans Mono',consolas,'Courier New',monospace\"><span style=\"font-weight: bold\"> Trainable params: </span><span style=\"color: #00af00; text-decoration-color: #00af00\">75,267</span> (294.01 KB)\n",
              "</pre>\n"
            ]
          },
          "metadata": {}
        },
        {
          "output_type": "display_data",
          "data": {
            "text/plain": [
              "\u001b[1m Non-trainable params: \u001b[0m\u001b[38;5;34m14,714,688\u001b[0m (56.13 MB)\n"
            ],
            "text/html": [
              "<pre style=\"white-space:pre;overflow-x:auto;line-height:normal;font-family:Menlo,'DejaVu Sans Mono',consolas,'Courier New',monospace\"><span style=\"font-weight: bold\"> Non-trainable params: </span><span style=\"color: #00af00; text-decoration-color: #00af00\">14,714,688</span> (56.13 MB)\n",
              "</pre>\n"
            ]
          },
          "metadata": {}
        },
        {
          "output_type": "display_data",
          "data": {
            "text/plain": [
              "\u001b[1m Optimizer params: \u001b[0m\u001b[38;5;34m150,536\u001b[0m (588.04 KB)\n"
            ],
            "text/html": [
              "<pre style=\"white-space:pre;overflow-x:auto;line-height:normal;font-family:Menlo,'DejaVu Sans Mono',consolas,'Courier New',monospace\"><span style=\"font-weight: bold\"> Optimizer params: </span><span style=\"color: #00af00; text-decoration-color: #00af00\">150,536</span> (588.04 KB)\n",
              "</pre>\n"
            ]
          },
          "metadata": {}
        }
      ],
      "source": [
        "vgg16.summary()"
      ]
    },
    {
      "cell_type": "code",
      "execution_count": null,
      "metadata": {
        "id": "PvOtPtf1rvnS"
      },
      "outputs": [],
      "source": [
        "from keras.preprocessing import image\n",
        "from keras.applications.vgg16 import preprocess_input\n",
        "from tensorflow.keras.utils import img_to_array # load_image is removed\n",
        "from keras.utils import load_img as load_image  # Import load_img from keras.utils\n",
        "labels=[0,1,2]"
      ]
    },
    {
      "cell_type": "code",
      "source": [
        "!ls '/content/output_dataset/train/Recyclable Images'\n"
      ],
      "metadata": {
        "colab": {
          "base_uri": "https://localhost:8080/"
        },
        "id": "_TWwAywUejx3",
        "outputId": "eb71d1a0-f5ba-4331-b27c-2c15a26a7648"
      },
      "execution_count": null,
      "outputs": [
        {
          "output_type": "stream",
          "name": "stdout",
          "text": [
            "cardboard107.jpeg  glass151.jpeg  metal157.jpeg  paper198.jpeg\n",
            "cardboard108.jpeg  glass152.jpeg  metal171.jpeg  plastic103.jpeg\n",
            "cardboard115.jpeg  glass153.jpeg  metal185.jpeg  plastic105.jpeg\n",
            "cardboard127.jpeg  glass163.jpeg  metal190.jpeg  plastic116.jpeg\n",
            "cardboard130.jpeg  glass16.jpeg   metal198.jpeg  plastic127.jpeg\n",
            "cardboard131.jpeg  glass180.jpeg  paper100.jpeg  plastic130.jpeg\n",
            "cardboard134.jpeg  glass18.jpeg   paper110.jpeg  plastic135.jpeg\n",
            "cardboard136.jpeg  glass193.jpeg  paper115.jpeg  plastic14.jpeg\n",
            "cardboard138.jpeg  glass194.jpeg  paper119.jpeg  plastic151.jpeg\n",
            "cardboard146.jpeg  glass19.jpeg   paper11.jpeg\t plastic152.jpeg\n",
            "cardboard151.jpeg  glass202.jpeg  paper123.jpeg  plastic157.jpeg\n",
            "cardboard153.jpeg  metal102.jpeg  paper126.jpeg  plastic15.jpeg\n",
            "cardboard160.jpeg  metal110.jpeg  paper136.jpeg  plastic160.jpeg\n",
            "cardboard165.jpeg  metal114.jpeg  paper137.jpeg  plastic165.jpeg\n",
            "glass101.jpeg\t   metal118.jpeg  paper145.jpeg  plastic167.jpeg\n",
            "glass104.jpeg\t   metal120.jpeg  paper149.jpeg  plastic171.jpeg\n",
            "glass106.jpeg\t   metal123.jpeg  paper152.jpeg  plastic184.jpeg\n",
            "glass110.jpeg\t   metal125.jpeg  paper15.jpeg\t plastic188.jpeg\n",
            "glass111.jpeg\t   metal133.jpeg  paper165.jpeg  plastic189.jpeg\n",
            "glass121.jpeg\t   metal141.jpeg  paper166.jpeg  plastic202.jpeg\n",
            "glass137.jpeg\t   metal154.jpeg  paper173.jpeg\n"
          ]
        }
      ]
    },
    {
      "cell_type": "code",
      "execution_count": null,
      "metadata": {
        "id": "J211b_xqK77D",
        "colab": {
          "base_uri": "https://localhost:8080/"
        },
        "outputId": "fd9d1b11-2416-44b4-d556-4e890b9ecfbc"
      },
      "outputs": [
        {
          "output_type": "stream",
          "name": "stdout",
          "text": [
            "\u001b[1m1/1\u001b[0m \u001b[32m━━━━━━━━━━━━━━━━━━━━\u001b[0m\u001b[37m\u001b[0m \u001b[1m0s\u001b[0m 45ms/step\n"
          ]
        },
        {
          "output_type": "execute_result",
          "data": {
            "text/plain": [
              "array([[3.1448670e-03, 4.1917376e-09, 9.9685514e-01]], dtype=float32)"
            ]
          },
          "metadata": {},
          "execution_count": 51
        }
      ],
      "source": [
        "img_path='/content/output_dataset/train/Recyclable Images/metal125.jpeg'\n",
        "\n",
        "import numpy as np\n",
        "img=load_img(img_path,target_size=(224,224))\n",
        "x=img_to_array(img)\n",
        "x=preprocess_input(x)\n",
        "preds=vgg16.predict(np.array([x]))\n",
        "preds"
      ]
    },
    {
      "cell_type": "code",
      "execution_count": null,
      "metadata": {
        "id": "wr6PFO00UQF3",
        "colab": {
          "base_uri": "https://localhost:8080/"
        },
        "outputId": "65e29a3a-d059-4ead-a50a-03c2e9fe7b10"
      },
      "outputs": [
        {
          "output_type": "execute_result",
          "data": {
            "text/plain": [
              "2"
            ]
          },
          "metadata": {},
          "execution_count": 52
        }
      ],
      "source": [
        "labels[np.argmax(preds)]"
      ]
    },
    {
      "cell_type": "code",
      "execution_count": null,
      "metadata": {
        "id": "TGUvzMXQTNJM",
        "colab": {
          "base_uri": "https://localhost:8080/"
        },
        "outputId": "fcce0c36-6c65-4179-ff8a-7d0b4a2f5d8b"
      },
      "outputs": [
        {
          "output_type": "stream",
          "name": "stdout",
          "text": [
            "/content/output_dataset/train/Recyclable Images/glass153.jpeg\n",
            "/content/output_dataset/train/Recyclable Images/paper145.jpeg\n",
            "/content/output_dataset/train/Recyclable Images/glass104.jpeg\n",
            "/content/output_dataset/train/Recyclable Images/glass110.jpeg\n",
            "/content/output_dataset/train/Recyclable Images/paper165.jpeg\n",
            "/content/output_dataset/train/Recyclable Images/cardboard165.jpeg\n",
            "/content/output_dataset/train/Recyclable Images/glass16.jpeg\n",
            "/content/output_dataset/train/Recyclable Images/cardboard138.jpeg\n",
            "/content/output_dataset/train/Recyclable Images/cardboard108.jpeg\n",
            "/content/output_dataset/train/Recyclable Images/plastic157.jpeg\n",
            "/content/output_dataset/train/Recyclable Images/glass101.jpeg\n",
            "/content/output_dataset/train/Recyclable Images/metal125.jpeg\n",
            "/content/output_dataset/train/Recyclable Images/plastic116.jpeg\n",
            "/content/output_dataset/train/Recyclable Images/cardboard115.jpeg\n",
            "/content/output_dataset/train/Recyclable Images/paper115.jpeg\n",
            "/content/output_dataset/train/Recyclable Images/metal118.jpeg\n",
            "/content/output_dataset/train/Recyclable Images/glass111.jpeg\n",
            "/content/output_dataset/train/Recyclable Images/glass194.jpeg\n",
            "/content/output_dataset/train/Recyclable Images/metal154.jpeg\n",
            "/content/output_dataset/train/Recyclable Images/plastic152.jpeg\n",
            "/content/output_dataset/train/Recyclable Images/paper126.jpeg\n",
            "/content/output_dataset/train/Recyclable Images/metal102.jpeg\n",
            "/content/output_dataset/train/Recyclable Images/plastic14.jpeg\n",
            "/content/output_dataset/train/Recyclable Images/glass18.jpeg\n",
            "/content/output_dataset/train/Recyclable Images/plastic188.jpeg\n",
            "/content/output_dataset/train/Recyclable Images/paper123.jpeg\n",
            "/content/output_dataset/train/Recyclable Images/paper152.jpeg\n",
            "/content/output_dataset/train/Recyclable Images/cardboard151.jpeg\n",
            "/content/output_dataset/train/Recyclable Images/plastic189.jpeg\n",
            "/content/output_dataset/train/Recyclable Images/plastic103.jpeg\n",
            "/content/output_dataset/train/Recyclable Images/glass137.jpeg\n",
            "/content/output_dataset/train/Recyclable Images/cardboard134.jpeg\n",
            "/content/output_dataset/train/Recyclable Images/plastic15.jpeg\n",
            "/content/output_dataset/train/Recyclable Images/glass151.jpeg\n",
            "/content/output_dataset/train/Recyclable Images/plastic167.jpeg\n",
            "/content/output_dataset/train/Recyclable Images/paper110.jpeg\n",
            "/content/output_dataset/train/Recyclable Images/glass19.jpeg\n",
            "/content/output_dataset/train/Recyclable Images/metal157.jpeg\n",
            "/content/output_dataset/train/Recyclable Images/paper119.jpeg\n",
            "/content/output_dataset/train/Recyclable Images/glass193.jpeg\n",
            "/content/output_dataset/train/Recyclable Images/paper173.jpeg\n",
            "/content/output_dataset/train/Recyclable Images/plastic127.jpeg\n",
            "/content/output_dataset/train/Recyclable Images/metal123.jpeg\n",
            "/content/output_dataset/train/Recyclable Images/cardboard160.jpeg\n",
            "/content/output_dataset/train/Recyclable Images/paper149.jpeg\n",
            "/content/output_dataset/train/Recyclable Images/metal190.jpeg\n",
            "/content/output_dataset/train/Recyclable Images/paper15.jpeg\n",
            "/content/output_dataset/train/Recyclable Images/cardboard153.jpeg\n",
            "/content/output_dataset/train/Recyclable Images/cardboard146.jpeg\n",
            "/content/output_dataset/train/Recyclable Images/metal185.jpeg\n",
            "/content/output_dataset/train/Recyclable Images/plastic160.jpeg\n",
            "/content/output_dataset/train/Recyclable Images/glass202.jpeg\n",
            "/content/output_dataset/train/Recyclable Images/paper136.jpeg\n",
            "/content/output_dataset/train/Recyclable Images/metal171.jpeg\n",
            "/content/output_dataset/train/Recyclable Images/metal133.jpeg\n",
            "/content/output_dataset/train/Recyclable Images/metal120.jpeg\n",
            "/content/output_dataset/train/Recyclable Images/plastic165.jpeg\n",
            "/content/output_dataset/train/Recyclable Images/metal110.jpeg\n",
            "/content/output_dataset/train/Recyclable Images/plastic171.jpeg\n",
            "/content/output_dataset/train/Recyclable Images/metal114.jpeg\n",
            "/content/output_dataset/train/Recyclable Images/plastic184.jpeg\n",
            "/content/output_dataset/train/Recyclable Images/plastic151.jpeg\n",
            "/content/output_dataset/train/Recyclable Images/plastic202.jpeg\n",
            "/content/output_dataset/train/Recyclable Images/cardboard127.jpeg\n",
            "/content/output_dataset/train/Recyclable Images/glass152.jpeg\n",
            "/content/output_dataset/train/Recyclable Images/paper100.jpeg\n",
            "/content/output_dataset/train/Recyclable Images/glass180.jpeg\n",
            "/content/output_dataset/train/Recyclable Images/paper137.jpeg\n",
            "/content/output_dataset/train/Recyclable Images/cardboard130.jpeg\n",
            "/content/output_dataset/train/Recyclable Images/glass163.jpeg\n",
            "/content/output_dataset/train/Recyclable Images/cardboard131.jpeg\n",
            "/content/output_dataset/train/Recyclable Images/plastic105.jpeg\n",
            "/content/output_dataset/train/Recyclable Images/plastic130.jpeg\n",
            "/content/output_dataset/train/Recyclable Images/cardboard107.jpeg\n",
            "/content/output_dataset/train/Recyclable Images/metal198.jpeg\n",
            "/content/output_dataset/train/Recyclable Images/paper11.jpeg\n",
            "/content/output_dataset/train/Recyclable Images/paper166.jpeg\n",
            "/content/output_dataset/train/Recyclable Images/paper198.jpeg\n",
            "/content/output_dataset/train/Recyclable Images/glass106.jpeg\n",
            "/content/output_dataset/train/Recyclable Images/cardboard136.jpeg\n",
            "/content/output_dataset/train/Recyclable Images/glass121.jpeg\n",
            "/content/output_dataset/train/Recyclable Images/metal141.jpeg\n",
            "/content/output_dataset/train/Recyclable Images/plastic135.jpeg\n",
            "/content/output_dataset/train/Trash Images/trash38.jpeg\n",
            "/content/output_dataset/train/Trash Images/trash9.jpeg\n",
            "/content/output_dataset/train/Trash Images/trash85.jpeg\n",
            "/content/output_dataset/train/Trash Images/trash126.jpeg\n",
            "/content/output_dataset/train/Trash Images/trash44.jpeg\n",
            "/content/output_dataset/train/Trash Images/trash39.jpeg\n",
            "/content/output_dataset/train/Trash Images/trash20.jpeg\n",
            "/content/output_dataset/train/Trash Images/trash136.jpeg\n",
            "/content/output_dataset/train/Trash Images/trash83.jpeg\n",
            "/content/output_dataset/train/Trash Images/trash125.jpeg\n",
            "/content/output_dataset/train/Trash Images/trash102.jpeg\n",
            "/content/output_dataset/train/Trash Images/trash41.jpeg\n",
            "/content/output_dataset/train/Trash Images/trash133.jpeg\n",
            "/content/output_dataset/train/Trash Images/trash60.jpeg\n",
            "/content/output_dataset/train/Trash Images/trash64.jpeg\n",
            "/content/output_dataset/train/Trash Images/trash14.jpeg\n",
            "/content/output_dataset/train/Trash Images/trash11.jpeg\n",
            "/content/output_dataset/train/Trash Images/trash111.jpeg\n",
            "/content/output_dataset/train/Trash Images/trash10.jpeg\n",
            "/content/output_dataset/train/Trash Images/trash116.jpeg\n",
            "/content/output_dataset/train/Trash Images/trash109.jpeg\n",
            "/content/output_dataset/train/Trash Images/trash63.jpeg\n",
            "/content/output_dataset/train/Trash Images/TRAIN.4_NBIODEG_CCW_1536.jpg\n",
            "/content/output_dataset/train/Trash Images/trash79.jpeg\n",
            "/content/output_dataset/train/Trash Images/TRAIN.4_NBIODEG_CCW_2348.jpg\n",
            "/content/output_dataset/train/Trash Images/trash82.jpeg\n",
            "/content/output_dataset/train/Trash Images/trash93.jpeg\n",
            "/content/output_dataset/train/Trash Images/trash45.jpeg\n",
            "/content/output_dataset/train/Trash Images/TRAIN.4_NBIODEG_CCW_2316.jpg\n",
            "/content/output_dataset/train/Trash Images/trash32.jpeg\n",
            "/content/output_dataset/train/Trash Images/trash90.jpeg\n",
            "/content/output_dataset/train/Trash Images/trash137.jpeg\n",
            "/content/output_dataset/train/Trash Images/trash54.jpeg\n",
            "/content/output_dataset/train/Trash Images/trash86.jpeg\n",
            "/content/output_dataset/train/Trash Images/trash118.jpeg\n",
            "/content/output_dataset/train/Trash Images/trash123.jpeg\n",
            "/content/output_dataset/train/Trash Images/TRAIN.4_NBIODEG_CCW_1237.jpg\n",
            "/content/output_dataset/train/Trash Images/trash77.jpeg\n",
            "/content/output_dataset/train/Trash Images/trash22.jpeg\n",
            "/content/output_dataset/train/Trash Images/trash88.jpeg\n",
            "/content/output_dataset/train/Trash Images/trash12.jpeg\n",
            "/content/output_dataset/train/Trash Images/trash121.jpeg\n",
            "/content/output_dataset/train/Trash Images/TRAIN.4_NBIODEG_CCW_1506.jpg\n",
            "/content/output_dataset/train/Trash Images/trash52.jpeg\n",
            "/content/output_dataset/train/Trash Images/trash68.jpeg\n",
            "/content/output_dataset/train/Trash Images/trash107.jpeg\n",
            "/content/output_dataset/train/Trash Images/trash122.jpeg\n",
            "/content/output_dataset/train/Trash Images/trash1.jpeg\n",
            "/content/output_dataset/train/Trash Images/trash91.jpeg\n",
            "/content/output_dataset/train/Trash Images/trash28.jpeg\n",
            "/content/output_dataset/train/Trash Images/trash69.jpeg\n",
            "/content/output_dataset/train/Trash Images/trash119.jpeg\n",
            "/content/output_dataset/train/Trash Images/trash80.jpeg\n",
            "/content/output_dataset/train/Trash Images/trash18.jpeg\n",
            "/content/output_dataset/train/Trash Images/trash97.jpeg\n",
            "/content/output_dataset/train/Trash Images/trash24.jpeg\n",
            "/content/output_dataset/train/Trash Images/trash4.jpeg\n",
            "/content/output_dataset/train/Trash Images/trash57.jpeg\n",
            "/content/output_dataset/train/Trash Images/trash2.jpeg\n",
            "/content/output_dataset/train/Trash Images/trash19.jpeg\n",
            "/content/output_dataset/train/Trash Images/trash5.jpeg\n",
            "/content/output_dataset/train/Trash Images/trash37.jpeg\n",
            "/content/output_dataset/train/Trash Images/trash6.jpeg\n",
            "/content/output_dataset/train/Trash Images/TRAIN.4_NBIODEG_CCW_1240.jpg\n",
            "/content/output_dataset/train/Trash Images/TRAIN.4_NBIODEG_CCW_2313.jpg\n",
            "/content/output_dataset/train/Trash Images/trash40.jpeg\n",
            "/content/output_dataset/train/Trash Images/TRAIN.4_NBIODEG_CCW_1493.jpg\n",
            "/content/output_dataset/train/Trash Images/trash33.jpeg\n",
            "/content/output_dataset/train/Trash Images/trash127.jpeg\n",
            "/content/output_dataset/train/Trash Images/TRAIN.4_NBIODEG_CCW_1491.jpg\n",
            "/content/output_dataset/train/Trash Images/trash99.jpeg\n",
            "/content/output_dataset/train/Trash Images/trash16.jpeg\n",
            "/content/output_dataset/train/Trash Images/trash105.jpeg\n",
            "/content/output_dataset/train/Trash Images/trash73.jpeg\n",
            "/content/output_dataset/train/Trash Images/TRAIN.4_NBIODEG_CCW_1778.jpg\n",
            "/content/output_dataset/train/Trash Images/TRAIN.4_NBIODEG_CCW_1895.jpg\n",
            "/content/output_dataset/train/Trash Images/trash46.jpeg\n",
            "/content/output_dataset/train/Trash Images/trash130.jpeg\n",
            "/content/output_dataset/train/Trash Images/trash53.jpeg\n",
            "/content/output_dataset/train/Trash Images/TRAIN.2_NBIODEG_CCW_1004.jpg\n",
            "/content/output_dataset/train/Trash Images/TRAIN.4_NBIODEG_CCW_1496.jpg\n",
            "/content/output_dataset/train/Trash Images/TRAIN.2_NBIODEG_CCW_1000.jpg\n",
            "/content/output_dataset/train/Trash Images/trash124.jpeg\n",
            "/content/output_dataset/train/Biodegradable Images/TRAIN.2_BIODEG_ORI_10662.jpg\n",
            "/content/output_dataset/train/Biodegradable Images/TRAIN.2_BIODEG_ORI_11197.jpg\n",
            "/content/output_dataset/train/Biodegradable Images/TRAIN.2_BIODEG_ORI_11293.jpg\n",
            "/content/output_dataset/train/Biodegradable Images/TRAIN.2_BIODEG_ORI_10768.jpg\n",
            "/content/output_dataset/train/Biodegradable Images/TRAIN.2_BIODEG_ORI_10788.jpg\n",
            "/content/output_dataset/train/Biodegradable Images/TRAIN.2_BIODEG_ORI_11180.jpg\n",
            "/content/output_dataset/train/Biodegradable Images/TRAIN.2_BIODEG_ORI_10946.jpg\n",
            "/content/output_dataset/train/Biodegradable Images/TRAIN.2_BIODEG_ORI_10388.jpg\n",
            "/content/output_dataset/train/Biodegradable Images/TRAIN.2_BIODEG_ORI_10384.jpg\n",
            "/content/output_dataset/train/Biodegradable Images/TRAIN.2_BIODEG_ORI_1037.jpg\n",
            "/content/output_dataset/train/Biodegradable Images/TRAIN.2_BIODEG_ORI_11689.jpg\n",
            "/content/output_dataset/train/Biodegradable Images/TRAIN.2_BIODEG_ORI_11275.jpg\n",
            "/content/output_dataset/train/Biodegradable Images/TRAIN.2_BIODEG_ORI_10657.jpg\n",
            "/content/output_dataset/train/Biodegradable Images/TRAIN.2_BIODEG_ORI_1083.jpg\n",
            "/content/output_dataset/train/Biodegradable Images/TRAIN.2_BIODEG_ORI_1036.jpg\n",
            "/content/output_dataset/train/Biodegradable Images/TRAIN.2_BIODEG_ORI_1133.jpg\n",
            "/content/output_dataset/train/Biodegradable Images/TRAIN.2_BIODEG_ORI_10478.jpg\n",
            "/content/output_dataset/train/Biodegradable Images/TRAIN.2_BIODEG_ORI_10778.jpg\n",
            "/content/output_dataset/train/Biodegradable Images/TRAIN.2_BIODEG_ORI_11405.jpg\n",
            "/content/output_dataset/train/Biodegradable Images/TRAIN.2_BIODEG_ORI_11242.jpg\n",
            "/content/output_dataset/train/Biodegradable Images/TRAIN.2_BIODEG_ORI_11358.jpg\n",
            "/content/output_dataset/train/Biodegradable Images/TRAIN.2_BIODEG_ORI_11524.jpg\n",
            "/content/output_dataset/train/Biodegradable Images/TRAIN.2_BIODEG_ORI_1159.jpg\n",
            "/content/output_dataset/train/Biodegradable Images/TRAIN.2_BIODEG_ORI_10765.jpg\n",
            "/content/output_dataset/train/Biodegradable Images/TRAIN.2_BIODEG_ORI_11643.jpg\n",
            "/content/output_dataset/train/Biodegradable Images/TRAIN.2_BIODEG_ORI_10047.jpg\n",
            "/content/output_dataset/train/Biodegradable Images/TRAIN.2_BIODEG_ORI_10125.jpg\n",
            "/content/output_dataset/train/Biodegradable Images/TRAIN.2_BIODEG_ORI_11042.jpg\n",
            "/content/output_dataset/train/Biodegradable Images/TRAIN.2_BIODEG_ORI_10389.jpg\n",
            "/content/output_dataset/train/Biodegradable Images/TRAIN.2_BIODEG_ORI_10143.jpg\n",
            "/content/output_dataset/train/Biodegradable Images/TRAIN.2_BIODEG_ORI_11260.jpg\n",
            "/content/output_dataset/train/Biodegradable Images/TRAIN.2_BIODEG_ORI_11282.jpg\n",
            "/content/output_dataset/train/Biodegradable Images/TRAIN.2_BIODEG_ORI_11406.jpg\n",
            "/content/output_dataset/train/Biodegradable Images/TRAIN.2_BIODEG_ORI_11301.jpg\n",
            "/content/output_dataset/train/Biodegradable Images/TEST_BIODEG_HFL_1005.jpeg\n",
            "/content/output_dataset/train/Biodegradable Images/TRAIN.2_BIODEG_ORI_11281.jpg\n",
            "/content/output_dataset/train/Biodegradable Images/TRAIN.2_BIODEG_ORI_1014.jpg\n",
            "/content/output_dataset/train/Biodegradable Images/TRAIN.2_BIODEG_ORI_10658.jpg\n",
            "/content/output_dataset/train/Biodegradable Images/TRAIN.2_BIODEG_ORI_11303.jpg\n",
            "/content/output_dataset/train/Biodegradable Images/TRAIN.2_BIODEG_ORI_10151.jpg\n",
            "/content/output_dataset/train/Biodegradable Images/TRAIN.2_BIODEG_ORI_1132.jpg\n",
            "/content/output_dataset/train/Biodegradable Images/TRAIN.2_BIODEG_ORI_10942.jpg\n",
            "/content/output_dataset/train/Biodegradable Images/TRAIN.2_BIODEG_ORI_11171.jpg\n",
            "/content/output_dataset/train/Biodegradable Images/TRAIN.2_BIODEG_ORI_1027.jpg\n",
            "/content/output_dataset/train/Biodegradable Images/TRAIN.2_BIODEG_ORI_1010.jpg\n",
            "/content/output_dataset/train/Biodegradable Images/TRAIN.2_BIODEG_ORI_113.jpg\n",
            "/content/output_dataset/train/Biodegradable Images/TRAIN.2_BIODEG_ORI_11224.jpg\n",
            "/content/output_dataset/train/Biodegradable Images/TRAIN.2_BIODEG_ORI_11175.jpg\n",
            "/content/output_dataset/train/Biodegradable Images/TRAIN.2_BIODEG_ORI_11324.jpg\n",
            "/content/output_dataset/train/Biodegradable Images/TRAIN.2_BIODEG_ORI_1015.jpg\n",
            "/content/output_dataset/train/Biodegradable Images/TRAIN.2_BIODEG_ORI_10139.jpg\n",
            "/content/output_dataset/train/Biodegradable Images/TRAIN.2_BIODEG_ORI_11252.jpg\n",
            "/content/output_dataset/train/Biodegradable Images/TRAIN.2_BIODEG_ORI_10183.jpg\n",
            "/content/output_dataset/train/Biodegradable Images/TRAIN.2_BIODEG_ORI_10206.jpg\n",
            "/content/output_dataset/train/Biodegradable Images/TRAIN.2_BIODEG_ORI_10048.jpg\n",
            "/content/output_dataset/train/Biodegradable Images/TRAIN.2_BIODEG_ORI_10777.jpg\n",
            "/content/output_dataset/train/Biodegradable Images/TRAIN.2_BIODEG_ORI_10703.jpg\n",
            "/content/output_dataset/train/Biodegradable Images/TRAIN.2_BIODEG_ORI_11681.jpg\n",
            "/content/output_dataset/train/Biodegradable Images/TRAIN.2_BIODEG_ORI_1110.jpg\n",
            "/content/output_dataset/train/Biodegradable Images/TRAIN.2_BIODEG_ORI_11176.jpg\n",
            "/content/output_dataset/train/Biodegradable Images/TRAIN.2_BIODEG_ORI_11378.jpg\n",
            "/content/output_dataset/train/Biodegradable Images/TRAIN.2_BIODEG_ORI_11300.jpg\n",
            "/content/output_dataset/train/Biodegradable Images/TRAIN.2_BIODEG_ORI_11313.jpg\n",
            "/content/output_dataset/train/Biodegradable Images/TRAIN.2_BIODEG_ORI_104.jpg\n",
            "/content/output_dataset/train/Biodegradable Images/TRAIN.1_BIODEG_ORI_10035.jpg\n",
            "/content/output_dataset/train/Biodegradable Images/TRAIN.2_BIODEG_ORI_11682.jpg\n",
            "/content/output_dataset/train/Biodegradable Images/TEST_BIODEG_HFL_1004.jpeg\n",
            "/content/output_dataset/train/Biodegradable Images/TRAIN.2_BIODEG_ORI_10387.jpg\n",
            "/content/output_dataset/train/Biodegradable Images/TRAIN.2_BIODEG_ORI_11292.jpg\n",
            "/content/output_dataset/train/Biodegradable Images/TRAIN.2_BIODEG_ORI_11172.jpg\n",
            "/content/output_dataset/train/Biodegradable Images/TEST_BIODEG_HFL_1.jpeg\n",
            "/content/output_dataset/train/Biodegradable Images/TRAIN.2_BIODEG_ORI_10707.jpg\n",
            "/content/output_dataset/train/Biodegradable Images/TEST_BIODEG_HFL_1009.jpeg\n",
            "/content/output_dataset/train/Biodegradable Images/TEST_BIODEG_HFL_1000.jpeg\n",
            "/content/output_dataset/train/Biodegradable Images/TRAIN.2_BIODEG_ORI_10772.jpg\n",
            "/content/output_dataset/train/Biodegradable Images/TRAIN.2_BIODEG_ORI_11280.jpg\n",
            "/content/output_dataset/train/Biodegradable Images/TEST_BIODEG_HFL_0.jpeg\n",
            "/content/output_dataset/train/Biodegradable Images/TRAIN.2_BIODEG_ORI_10660.jpg\n",
            "/content/output_dataset/train/Biodegradable Images/TRAIN.2_BIODEG_ORI_10394.jpg\n",
            "/content/output_dataset/train/Biodegradable Images/TRAIN.2_BIODEG_ORI_11688.jpg\n",
            "/content/output_dataset/train/Biodegradable Images/TRAIN.2_BIODEG_ORI_10154.jpg\n",
            "/content/output_dataset/train/Biodegradable Images/TRAIN.2_BIODEG_ORI_10155.jpg\n",
            "/content/output_dataset/train/Biodegradable Images/TRAIN.2_BIODEG_ORI_11681 (1).jpg\n"
          ]
        }
      ],
      "source": [
        "import os\n",
        "\n",
        "def find_image_paths(root_dir):\n",
        "    \"\"\"\n",
        "    Finds all image paths within a directory and its subdirectories.\n",
        "\n",
        "    Args:\n",
        "        root_dir (str): The path to the root directory.\n",
        "\n",
        "    Returns:\n",
        "        list: A list of image paths.\n",
        "    \"\"\"\n",
        "    image_paths = []\n",
        "    for dirpath, dirnames, filenames in os.walk(root_dir):\n",
        "        for filename in filenames:\n",
        "            if filename.lower().endswith(('.png', '.jpg', '.jpeg', '.gif', '.bmp')):  # Adjust extensions as needed\n",
        "                image_paths.append(os.path.join(dirpath, filename))\n",
        "    return image_paths\n",
        "\n",
        "# Example usage:\n",
        "root_directory = '/content/output_dataset/train'  # Replace with your desired directory\n",
        "image_paths = find_image_paths(root_directory)\n",
        "\n",
        "# Print the image paths\n",
        "for path in image_paths:\n",
        "    print(path)"
      ]
    },
    {
      "cell_type": "code",
      "source": [
        "!ls '/content/output_dataset/train/Biodegradable Images'"
      ],
      "metadata": {
        "colab": {
          "base_uri": "https://localhost:8080/"
        },
        "id": "4j0-ikhqetZW",
        "outputId": "69fb3aaf-1dd6-4b85-92aa-d35b873a2fcb"
      },
      "execution_count": null,
      "outputs": [
        {
          "output_type": "stream",
          "name": "stdout",
          "text": [
            " TEST_BIODEG_HFL_0.jpeg         TRAIN.2_BIODEG_ORI_1083.jpg\n",
            " TEST_BIODEG_HFL_1000.jpeg      TRAIN.2_BIODEG_ORI_10942.jpg\n",
            " TEST_BIODEG_HFL_1004.jpeg      TRAIN.2_BIODEG_ORI_10946.jpg\n",
            " TEST_BIODEG_HFL_1005.jpeg      TRAIN.2_BIODEG_ORI_11042.jpg\n",
            " TEST_BIODEG_HFL_1009.jpeg      TRAIN.2_BIODEG_ORI_1110.jpg\n",
            " TEST_BIODEG_HFL_1.jpeg         TRAIN.2_BIODEG_ORI_11171.jpg\n",
            " TRAIN.1_BIODEG_ORI_10035.jpg   TRAIN.2_BIODEG_ORI_11172.jpg\n",
            " TRAIN.2_BIODEG_ORI_10047.jpg   TRAIN.2_BIODEG_ORI_11175.jpg\n",
            " TRAIN.2_BIODEG_ORI_10048.jpg   TRAIN.2_BIODEG_ORI_11176.jpg\n",
            " TRAIN.2_BIODEG_ORI_1010.jpg    TRAIN.2_BIODEG_ORI_11180.jpg\n",
            " TRAIN.2_BIODEG_ORI_10125.jpg   TRAIN.2_BIODEG_ORI_11197.jpg\n",
            " TRAIN.2_BIODEG_ORI_10139.jpg   TRAIN.2_BIODEG_ORI_11224.jpg\n",
            " TRAIN.2_BIODEG_ORI_10143.jpg   TRAIN.2_BIODEG_ORI_11242.jpg\n",
            " TRAIN.2_BIODEG_ORI_1014.jpg    TRAIN.2_BIODEG_ORI_11252.jpg\n",
            " TRAIN.2_BIODEG_ORI_10151.jpg   TRAIN.2_BIODEG_ORI_11260.jpg\n",
            " TRAIN.2_BIODEG_ORI_10154.jpg   TRAIN.2_BIODEG_ORI_11275.jpg\n",
            " TRAIN.2_BIODEG_ORI_10155.jpg   TRAIN.2_BIODEG_ORI_11280.jpg\n",
            " TRAIN.2_BIODEG_ORI_1015.jpg    TRAIN.2_BIODEG_ORI_11281.jpg\n",
            " TRAIN.2_BIODEG_ORI_10183.jpg   TRAIN.2_BIODEG_ORI_11282.jpg\n",
            " TRAIN.2_BIODEG_ORI_10206.jpg   TRAIN.2_BIODEG_ORI_11292.jpg\n",
            " TRAIN.2_BIODEG_ORI_1027.jpg    TRAIN.2_BIODEG_ORI_11293.jpg\n",
            " TRAIN.2_BIODEG_ORI_1036.jpg    TRAIN.2_BIODEG_ORI_11300.jpg\n",
            " TRAIN.2_BIODEG_ORI_1037.jpg    TRAIN.2_BIODEG_ORI_11301.jpg\n",
            " TRAIN.2_BIODEG_ORI_10384.jpg   TRAIN.2_BIODEG_ORI_11303.jpg\n",
            " TRAIN.2_BIODEG_ORI_10387.jpg   TRAIN.2_BIODEG_ORI_11313.jpg\n",
            " TRAIN.2_BIODEG_ORI_10388.jpg   TRAIN.2_BIODEG_ORI_11324.jpg\n",
            " TRAIN.2_BIODEG_ORI_10389.jpg   TRAIN.2_BIODEG_ORI_1132.jpg\n",
            " TRAIN.2_BIODEG_ORI_10394.jpg   TRAIN.2_BIODEG_ORI_1133.jpg\n",
            " TRAIN.2_BIODEG_ORI_10478.jpg   TRAIN.2_BIODEG_ORI_11358.jpg\n",
            " TRAIN.2_BIODEG_ORI_104.jpg     TRAIN.2_BIODEG_ORI_11378.jpg\n",
            " TRAIN.2_BIODEG_ORI_10657.jpg   TRAIN.2_BIODEG_ORI_113.jpg\n",
            " TRAIN.2_BIODEG_ORI_10658.jpg   TRAIN.2_BIODEG_ORI_11405.jpg\n",
            " TRAIN.2_BIODEG_ORI_10660.jpg   TRAIN.2_BIODEG_ORI_11406.jpg\n",
            " TRAIN.2_BIODEG_ORI_10662.jpg   TRAIN.2_BIODEG_ORI_11524.jpg\n",
            " TRAIN.2_BIODEG_ORI_10703.jpg   TRAIN.2_BIODEG_ORI_1159.jpg\n",
            " TRAIN.2_BIODEG_ORI_10707.jpg   TRAIN.2_BIODEG_ORI_11643.jpg\n",
            " TRAIN.2_BIODEG_ORI_10765.jpg  'TRAIN.2_BIODEG_ORI_11681 (1).jpg'\n",
            " TRAIN.2_BIODEG_ORI_10768.jpg   TRAIN.2_BIODEG_ORI_11681.jpg\n",
            " TRAIN.2_BIODEG_ORI_10772.jpg   TRAIN.2_BIODEG_ORI_11682.jpg\n",
            " TRAIN.2_BIODEG_ORI_10777.jpg   TRAIN.2_BIODEG_ORI_11688.jpg\n",
            " TRAIN.2_BIODEG_ORI_10778.jpg   TRAIN.2_BIODEG_ORI_11689.jpg\n",
            " TRAIN.2_BIODEG_ORI_10788.jpg\n"
          ]
        }
      ]
    },
    {
      "cell_type": "code",
      "execution_count": null,
      "metadata": {
        "id": "GNfEEILjsy3g",
        "colab": {
          "base_uri": "https://localhost:8080/"
        },
        "outputId": "9a2e273f-344a-47e8-a731-b2a34675bce8"
      },
      "outputs": [
        {
          "output_type": "stream",
          "name": "stdout",
          "text": [
            "\u001b[1m1/1\u001b[0m \u001b[32m━━━━━━━━━━━━━━━━━━━━\u001b[0m\u001b[37m\u001b[0m \u001b[1m0s\u001b[0m 40ms/step\n"
          ]
        },
        {
          "output_type": "execute_result",
          "data": {
            "text/plain": [
              "array([[9.9911100e-01, 2.5682214e-08, 8.8896207e-04]], dtype=float32)"
            ]
          },
          "metadata": {},
          "execution_count": 56
        }
      ],
      "source": [
        "img_path='/content/output_dataset/train/Biodegradable Images/TRAIN.2_BIODEG_ORI_10788.jpg'\n",
        "import numpy as np\n",
        "img=load_img(img_path,target_size=(224,224))\n",
        "x=img_to_array(img)\n",
        "x=preprocess_input(x)\n",
        "preds=vgg16.predict(np.array([x]))\n",
        "preds"
      ]
    },
    {
      "cell_type": "code",
      "execution_count": null,
      "metadata": {
        "id": "7o-C9gOAs-9S",
        "colab": {
          "base_uri": "https://localhost:8080/"
        },
        "outputId": "807b1aff-6cff-4a05-c13b-09ff0ce0b324"
      },
      "outputs": [
        {
          "output_type": "execute_result",
          "data": {
            "text/plain": [
              "0"
            ]
          },
          "metadata": {},
          "execution_count": 57
        }
      ],
      "source": [
        "labels[np.argmax(preds)]"
      ]
    },
    {
      "cell_type": "code",
      "execution_count": null,
      "metadata": {
        "id": "uikeMFdXWKno",
        "colab": {
          "base_uri": "https://localhost:8080/"
        },
        "outputId": "a7c41e70-866e-4fdf-8533-04987d368178"
      },
      "outputs": [
        {
          "output_type": "stream",
          "name": "stdout",
          "text": [
            "\u001b[1m1/1\u001b[0m \u001b[32m━━━━━━━━━━━━━━━━━━━━\u001b[0m\u001b[37m\u001b[0m \u001b[1m0s\u001b[0m 40ms/step\n"
          ]
        },
        {
          "output_type": "execute_result",
          "data": {
            "text/plain": [
              "array([[0.7448808 , 0.00515733, 0.24996182]], dtype=float32)"
            ]
          },
          "metadata": {},
          "execution_count": 58
        }
      ],
      "source": [
        "img_path='/content/output_dataset/train/Trash Images/trash124.jpeg'\n",
        "import numpy as np\n",
        "img=load_img(img_path,target_size=(224,224))\n",
        "x=img_to_array(img)\n",
        "x=preprocess_input(x)\n",
        "preds=vgg16.predict(np.array([x]))\n",
        "preds"
      ]
    },
    {
      "cell_type": "code",
      "execution_count": null,
      "metadata": {
        "id": "lOPE1AojuGS2",
        "colab": {
          "base_uri": "https://localhost:8080/"
        },
        "outputId": "c9d867b9-8d5f-425c-9ae7-534725fb5711"
      },
      "outputs": [
        {
          "output_type": "execute_result",
          "data": {
            "text/plain": [
              "0"
            ]
          },
          "metadata": {},
          "execution_count": 59
        }
      ],
      "source": [
        "labels[np.argmax(preds)]"
      ]
    },
    {
      "cell_type": "code",
      "execution_count": null,
      "metadata": {
        "id": "YgBUAyDGWzLc",
        "colab": {
          "base_uri": "https://localhost:8080/"
        },
        "outputId": "ddc1be08-b5cd-4621-86b6-fbbaecb5d9b8"
      },
      "outputs": [
        {
          "output_type": "stream",
          "name": "stdout",
          "text": [
            "\u001b[1m1/1\u001b[0m \u001b[32m━━━━━━━━━━━━━━━━━━━━\u001b[0m\u001b[37m\u001b[0m \u001b[1m0s\u001b[0m 40ms/step\n"
          ]
        },
        {
          "output_type": "execute_result",
          "data": {
            "text/plain": [
              "array([[9.0067497e-06, 1.1573916e-03, 9.9883360e-01]], dtype=float32)"
            ]
          },
          "metadata": {},
          "execution_count": 60
        }
      ],
      "source": [
        "img_path='/content/output_dataset/train/Biodegradable Images/TEST_BIODEG_HFL_1009.jpeg'\n",
        "import numpy as np\n",
        "img=load_img(img_path,target_size=(224,224))\n",
        "x=img_to_array(img)\n",
        "x=preprocess_input(x)\n",
        "preds=vgg16.predict(np.array([x]))\n",
        "preds"
      ]
    },
    {
      "cell_type": "code",
      "execution_count": null,
      "metadata": {
        "id": "Gd4mXES8urxk",
        "colab": {
          "base_uri": "https://localhost:8080/"
        },
        "outputId": "66609df5-d23e-46bc-b29a-2614614c2d67"
      },
      "outputs": [
        {
          "output_type": "execute_result",
          "data": {
            "text/plain": [
              "2"
            ]
          },
          "metadata": {},
          "execution_count": 61
        }
      ],
      "source": [
        "labels[np.argmax(preds)]"
      ]
    },
    {
      "cell_type": "code",
      "source": [
        "!ls '/content/output_dataset/train/Recyclable Images'"
      ],
      "metadata": {
        "colab": {
          "base_uri": "https://localhost:8080/"
        },
        "id": "A7HyQqMMe9ux",
        "outputId": "5e7ec624-c8b5-43cd-ce1a-35b9e8bab33f"
      },
      "execution_count": null,
      "outputs": [
        {
          "output_type": "stream",
          "name": "stdout",
          "text": [
            "cardboard107.jpeg  glass151.jpeg  metal157.jpeg  paper198.jpeg\n",
            "cardboard108.jpeg  glass152.jpeg  metal171.jpeg  plastic103.jpeg\n",
            "cardboard115.jpeg  glass153.jpeg  metal185.jpeg  plastic105.jpeg\n",
            "cardboard127.jpeg  glass163.jpeg  metal190.jpeg  plastic116.jpeg\n",
            "cardboard130.jpeg  glass16.jpeg   metal198.jpeg  plastic127.jpeg\n",
            "cardboard131.jpeg  glass180.jpeg  paper100.jpeg  plastic130.jpeg\n",
            "cardboard134.jpeg  glass18.jpeg   paper110.jpeg  plastic135.jpeg\n",
            "cardboard136.jpeg  glass193.jpeg  paper115.jpeg  plastic14.jpeg\n",
            "cardboard138.jpeg  glass194.jpeg  paper119.jpeg  plastic151.jpeg\n",
            "cardboard146.jpeg  glass19.jpeg   paper11.jpeg\t plastic152.jpeg\n",
            "cardboard151.jpeg  glass202.jpeg  paper123.jpeg  plastic157.jpeg\n",
            "cardboard153.jpeg  metal102.jpeg  paper126.jpeg  plastic15.jpeg\n",
            "cardboard160.jpeg  metal110.jpeg  paper136.jpeg  plastic160.jpeg\n",
            "cardboard165.jpeg  metal114.jpeg  paper137.jpeg  plastic165.jpeg\n",
            "glass101.jpeg\t   metal118.jpeg  paper145.jpeg  plastic167.jpeg\n",
            "glass104.jpeg\t   metal120.jpeg  paper149.jpeg  plastic171.jpeg\n",
            "glass106.jpeg\t   metal123.jpeg  paper152.jpeg  plastic184.jpeg\n",
            "glass110.jpeg\t   metal125.jpeg  paper15.jpeg\t plastic188.jpeg\n",
            "glass111.jpeg\t   metal133.jpeg  paper165.jpeg  plastic189.jpeg\n",
            "glass121.jpeg\t   metal141.jpeg  paper166.jpeg  plastic202.jpeg\n",
            "glass137.jpeg\t   metal154.jpeg  paper173.jpeg\n"
          ]
        }
      ]
    },
    {
      "cell_type": "code",
      "execution_count": null,
      "metadata": {
        "id": "Zi9o2xIeXU_P",
        "colab": {
          "base_uri": "https://localhost:8080/"
        },
        "outputId": "3910168c-95f9-4601-a8c6-62abd5a092a4"
      },
      "outputs": [
        {
          "output_type": "stream",
          "name": "stdout",
          "text": [
            "\u001b[1m1/1\u001b[0m \u001b[32m━━━━━━━━━━━━━━━━━━━━\u001b[0m\u001b[37m\u001b[0m \u001b[1m0s\u001b[0m 41ms/step\n"
          ]
        },
        {
          "output_type": "execute_result",
          "data": {
            "text/plain": [
              "array([[1.1435520e-05, 4.2509466e-02, 9.5747906e-01]], dtype=float32)"
            ]
          },
          "metadata": {},
          "execution_count": 64
        }
      ],
      "source": [
        "img_path='/content/output_dataset/train/Recyclable Images/cardboard165.jpeg'\n",
        "import numpy as np\n",
        "img=load_img(img_path,target_size=(224,224))\n",
        "x=img_to_array(img)\n",
        "x=preprocess_input(x)\n",
        "preds=vgg16.predict(np.array([x]))\n",
        "preds"
      ]
    },
    {
      "cell_type": "code",
      "execution_count": null,
      "metadata": {
        "id": "x7KXYoRkvfF7",
        "colab": {
          "base_uri": "https://localhost:8080/"
        },
        "outputId": "01477730-df50-4a8f-f141-77806286d21c"
      },
      "outputs": [
        {
          "output_type": "execute_result",
          "data": {
            "text/plain": [
              "2"
            ]
          },
          "metadata": {},
          "execution_count": 65
        }
      ],
      "source": [
        "labels[np.argmax(preds)]"
      ]
    },
    {
      "cell_type": "code",
      "execution_count": null,
      "metadata": {
        "id": "3-gPCsccvlAH",
        "colab": {
          "base_uri": "https://localhost:8080/"
        },
        "outputId": "c01f4249-dc2d-4a43-a44b-caece6b609ba"
      },
      "outputs": [
        {
          "output_type": "stream",
          "name": "stderr",
          "text": [
            "WARNING:absl:You are saving your model as an HDF5 file via `model.save()` or `keras.saving.save_model(model)`. This file format is considered legacy. We recommend using instead the native Keras format, e.g. `model.save('my_model.keras')` or `keras.saving.save_model(model, 'my_model.keras')`. \n"
          ]
        }
      ],
      "source": [
        "vgg16.save('vgg16.h5')"
      ]
    },
    {
      "cell_type": "code",
      "execution_count": null,
      "metadata": {
        "id": "Lr_w4KW0vt1M",
        "colab": {
          "base_uri": "https://localhost:8080/",
          "height": 34
        },
        "outputId": "0978da81-9b2d-4b38-c2cf-1560d4a0448d"
      },
      "outputs": [
        {
          "output_type": "display_data",
          "data": {
            "text/plain": [
              "<IPython.core.display.Javascript object>"
            ],
            "application/javascript": [
              "\n",
              "    async function download(id, filename, size) {\n",
              "      if (!google.colab.kernel.accessAllowed) {\n",
              "        return;\n",
              "      }\n",
              "      const div = document.createElement('div');\n",
              "      const label = document.createElement('label');\n",
              "      label.textContent = `Downloading \"${filename}\": `;\n",
              "      div.appendChild(label);\n",
              "      const progress = document.createElement('progress');\n",
              "      progress.max = size;\n",
              "      div.appendChild(progress);\n",
              "      document.body.appendChild(div);\n",
              "\n",
              "      const buffers = [];\n",
              "      let downloaded = 0;\n",
              "\n",
              "      const channel = await google.colab.kernel.comms.open(id);\n",
              "      // Send a message to notify the kernel that we're ready.\n",
              "      channel.send({})\n",
              "\n",
              "      for await (const message of channel.messages) {\n",
              "        // Send a message to notify the kernel that we're ready.\n",
              "        channel.send({})\n",
              "        if (message.buffers) {\n",
              "          for (const buffer of message.buffers) {\n",
              "            buffers.push(buffer);\n",
              "            downloaded += buffer.byteLength;\n",
              "            progress.value = downloaded;\n",
              "          }\n",
              "        }\n",
              "      }\n",
              "      const blob = new Blob(buffers, {type: 'application/binary'});\n",
              "      const a = document.createElement('a');\n",
              "      a.href = window.URL.createObjectURL(blob);\n",
              "      a.download = filename;\n",
              "      div.appendChild(a);\n",
              "      a.click();\n",
              "      div.remove();\n",
              "    }\n",
              "  "
            ]
          },
          "metadata": {}
        },
        {
          "output_type": "display_data",
          "data": {
            "text/plain": [
              "<IPython.core.display.Javascript object>"
            ],
            "application/javascript": [
              "download(\"download_7a6304db-c633-486f-9fdd-38effc6f97a5\", \"vgg16.h5\", 59852264)"
            ]
          },
          "metadata": {}
        }
      ],
      "source": [
        "from google.colab import files\n",
        "\n",
        "# Replace 'model_file_name' with your file's name\n",
        "files.download('vgg16.h5')"
      ]
    }
  ],
  "metadata": {
    "accelerator": "GPU",
    "colab": {
      "gpuType": "T4",
      "provenance": []
    },
    "kernelspec": {
      "display_name": "Python 3",
      "name": "python3"
    },
    "language_info": {
      "name": "python"
    }
  },
  "nbformat": 4,
  "nbformat_minor": 0
}